{
 "cells": [
  {
   "cell_type": "code",
   "execution_count": 1,
   "metadata": {},
   "outputs": [],
   "source": [
    "from amuse.units import units\n",
    "from amuse.lab import Huayno, nbody_system, new_galactics_model\n",
    "from amuse.lab import Gadget2\n",
    "from amuse.community.ph4.interface import ph4\n",
    "import copy\n",
    "import numpy as np\n",
    "import matplotlib.pyplot as plt\n",
    "from tqdm import tqdm\n",
    "from amuse.couple import bridge\n",
    "from amuse.community.hermite.interface import Hermite\n",
    "from amuse.community.bhtree.interface import BHTree\n",
    "from astropy.io import fits"
   ]
  },
  {
   "cell_type": "code",
   "execution_count": 2,
   "metadata": {},
   "outputs": [
    {
     "name": "stdout",
     "output_type": "stream",
     "text": [
      "Warning: do_scale for a large galactics model may be very slow\n",
      "CPU times: user 14.8 s, sys: 2.13 s, total: 16.9 s\n",
      "Wall time: 19.1 s\n"
     ]
    }
   ],
   "source": [
    "%%time\n",
    "\n",
    "# Milky Way := Mdisk = 4.5 Mbulge | Mhalo = 100 Mbulge\n",
    "# Andromeda := Mdisk = 4-7 Mbulge | Mhalo = 87 Mbulge\n",
    "# Mdisk = 5 Mbulge, Mhalo = 95 Mbulge\n",
    "\n",
    "n_halo  = 20000\n",
    "n_bulge = 10000\n",
    "n_disk  = 10000\n",
    "M_galaxy = 1e12 | units.MSun\n",
    "R_galaxy = 80  | units.kpc\n",
    "converter = nbody_system.nbody_to_si(M_galaxy, R_galaxy)\n",
    "\n",
    "galaxy1 = new_galactics_model(n_halo,\n",
    "                                converter,\n",
    "                                do_scale=True,\n",
    "                                bulge_number_of_particles=n_bulge,\n",
    "                                disk_number_of_particles=n_disk)\n",
    "galaxy1.move_to_center()\n",
    "# Order of particles: Disk => Bulge => Halo"
   ]
  },
  {
   "cell_type": "code",
   "execution_count": 3,
   "metadata": {},
   "outputs": [
    {
     "name": "stdout",
     "output_type": "stream",
     "text": [
      "Warning: do_scale for a large galactics model may be very slow\n",
      "Warning: do_scale for a large galactics model may be very slow\n",
      "CPU times: user 3.96 s, sys: 2.37 s, total: 6.33 s\n",
      "Wall time: 7.32 s\n"
     ]
    }
   ],
   "source": [
    "%%time\n",
    "n_halo_test  = 2000\n",
    "n_disk_test  = 1000\n",
    "n_bulge_test = 1000\n",
    "\n",
    "test_particles_1 = new_galactics_model(n_halo_test,\n",
    "                                converter,\n",
    "                                do_scale=True,\n",
    "                                bulge_number_of_particles=n_bulge_test,\n",
    "                                disk_number_of_particles=n_disk_test)\n",
    "\n",
    "test_particles_1.move_to_center()\n",
    "test_particles_1.mass = 0 |units.kg\n",
    "\n",
    "test_particles_2 = new_galactics_model(n_halo_test+1,\n",
    "                                converter,\n",
    "                                do_scale=True,\n",
    "                                bulge_number_of_particles=n_bulge_test+1,\n",
    "                                disk_number_of_particles=n_disk_test+1)\n",
    "\n",
    "test_particles_2.move_to_center()\n",
    "test_particles_2.mass = 0 |units.kg"
   ]
  },
  {
   "cell_type": "code",
   "execution_count": 4,
   "metadata": {},
   "outputs": [
    {
     "name": "stdout",
     "output_type": "stream",
     "text": [
      "                 key         mass           vx           vy           vz            x            y            z\n",
      "                   -           kg    m * s**-1    m * s**-1    m * s**-1            m            m            m\n",
      "====================  ===========  ===========  ===========  ===========  ===========  ===========  ===========\n",
      "10875095843854742828    4.304e+36   -1.873e+05   -4.310e+03    2.116e+03   -2.452e+19    2.955e+20    1.138e+19\n",
      " 3452269457190091868    4.304e+36    1.747e+05   -6.661e+04    6.072e+03   -2.875e+19   -4.857e+19    4.396e+18\n",
      "13751367681017400641    4.304e+36   -1.209e+05   -1.370e+05   -8.543e+03   -1.669e+20    1.534e+20   -1.032e+19\n",
      " 2592027311382297722    4.304e+36    1.719e+05    5.996e+04   -1.010e+04    8.508e+19   -3.362e+20   -3.121e+17\n",
      "13076103506856783916    4.304e+36    1.952e+05    3.951e+03    8.492e+03    5.888e+17   -3.819e+20   -1.150e+19\n",
      "14105269068257225326    4.304e+36   -1.911e+05   -1.801e+04    3.971e+03   -3.061e+19    2.633e+20   -4.506e+18\n",
      "  777698213189416723    4.304e+36   -1.512e+05    5.563e+04    4.219e+04    2.098e+19    8.328e+19    1.160e+18\n",
      " 1855670787372263083    4.304e+36   -1.689e+05    1.079e+05    2.330e+04    9.855e+19    1.657e+20    5.817e+17\n",
      "  323305841387436804    4.304e+36   -4.048e+04    1.862e+05    4.291e+03    2.072e+20    8.780e+18    7.243e+17\n",
      " 7197159585848881174    4.304e+36   -1.997e+05   -4.794e+04    3.847e+04   -1.005e+19    7.467e+19   -2.472e+18\n",
      "12377699145763145556    4.304e+36   -5.701e+04   -1.863e+05   -2.933e+03   -3.200e+20    7.944e+19    4.202e+18\n",
      " 2290209810997693320    4.304e+36   -1.773e+05   -8.695e+04   -2.795e+04   -1.267e+20    1.736e+20   -6.373e+18\n",
      " 3718402478430874310    4.304e+36   -9.647e+04   -1.835e+05   -1.705e+04   -7.168e+19    3.232e+19    2.574e+18\n",
      "16017197985548428974    4.304e+36   -1.155e+05   -1.135e+05   -4.119e+04   -1.448e+20    1.160e+20   -5.099e+18\n",
      "10260754730992177113    4.304e+36    1.724e+05   -4.109e+04   -4.987e+03   -9.984e+18   -1.178e+20    2.838e+18\n",
      " 3909020148338160019    4.304e+36    7.749e+04    2.186e+05    2.044e+04    5.448e+19   -2.447e+19    2.770e+18\n",
      "  505278327355388550    4.304e+36    1.649e+05   -1.235e+05    1.021e+04   -9.694e+19   -9.511e+19    1.735e+18\n",
      "17509472148541711132    4.304e+36   -6.792e+04    1.559e+05   -1.773e+04    7.571e+19    3.513e+19    2.003e+19\n",
      "18300765664136918276    4.304e+36    1.014e+05    1.149e+05    2.556e+03    1.923e+20   -1.728e+20   -6.870e+18\n",
      " 7692928631591002435    4.304e+36   -1.642e+05    1.158e+05   -1.360e+04    1.287e+20    1.888e+20   -2.912e+18\n",
      "                 ...          ...          ...          ...          ...          ...          ...          ...\n",
      " 7420762608251665970    9.611e+37    5.359e+04   -6.823e+04   -1.456e+05    6.169e+20   -1.428e+21   -1.354e+21\n",
      "17456228512642162160    9.611e+37    8.286e+04   -1.726e+04    3.633e+04    2.328e+21    1.423e+21   -5.040e+21\n",
      " 8319621263141103411    9.611e+37    3.570e+04    2.649e+04    7.863e+04    2.447e+21    3.747e+21   -7.829e+20\n",
      "17112726382870111549    9.611e+37    4.930e+04   -2.268e+04    1.491e+03    3.715e+21    5.404e+18   -4.396e+21\n",
      "16955044996108991656    9.611e+37   -1.802e+05    7.021e+04   -7.319e+04    8.210e+20    2.697e+21   -3.174e+20\n",
      "17386080391501498335    9.611e+37    1.884e+05   -1.463e+04   -4.877e+03    1.697e+20   -2.688e+20    2.927e+21\n",
      " 6908707727631262549    9.611e+37    4.081e+04    7.469e+04   -1.231e+05   -2.177e+21   -2.194e+21   -3.589e+21\n",
      " 1752070877029315179    9.611e+37   -1.497e+05   -5.790e+04   -1.816e+05    3.652e+20    7.294e+20   -6.146e+20\n",
      " 1437609903483894834    9.611e+37   -4.969e+04   -1.008e+05   -9.715e+04    1.815e+21   -3.081e+20    3.136e+20\n",
      "10260754184680314801    9.611e+37    1.241e+05   -3.341e+04   -1.285e+05    8.340e+20   -1.512e+20   -4.268e+20\n",
      " 4517216283301985444    9.611e+37    6.593e+04   -2.229e+05    1.705e+03   -1.101e+21    1.064e+21   -1.769e+20\n",
      " 8334229344640897565    9.611e+37    4.731e+04    1.814e+04    3.440e+04   -7.810e+19   -4.211e+21    4.892e+21\n",
      " 5059867103660565836    9.611e+37    4.403e+04   -1.675e+05   -1.372e+04    2.734e+21   -1.530e+21    1.817e+21\n",
      "16193442813911204033    9.611e+37   -9.449e+04    1.294e+05   -1.985e+05    6.139e+19    2.584e+20   -7.582e+20\n",
      " 7790717713912585179    9.611e+37    9.258e+04   -1.183e+05   -7.511e+04    1.949e+20    9.475e+19   -1.362e+19\n",
      "  361931416519611445    9.611e+37    1.462e+05    3.275e+04   -5.413e+04    7.131e+20   -2.295e+20    7.681e+20\n",
      " 8045509945704201364    9.611e+37   -2.013e+05    8.299e+04    4.080e+04    1.175e+20   -2.599e+19   -4.674e+19\n",
      "13115556089806204346    9.611e+37   -9.246e+04   -6.046e+03   -7.305e+04    4.450e+20    2.705e+21    3.216e+21\n",
      " 7253093810780328489    9.611e+37    3.217e+04    5.841e+04   -4.792e+04    2.799e+21    1.512e+21   -1.214e+21\n",
      " 1488198178813424249    9.611e+37    9.592e+04    1.324e+05   -1.046e+05    2.216e+21    5.199e+20    2.340e+21\n",
      "====================  ===========  ===========  ===========  ===========  ===========  ===========  ===========\n"
     ]
    }
   ],
   "source": [
    "print(galaxy1)"
   ]
  },
  {
   "cell_type": "code",
   "execution_count": 5,
   "metadata": {},
   "outputs": [
    {
     "name": "stdout",
     "output_type": "stream",
     "text": [
      "                 key         mass           vx           vy           vz            x            y            z\n",
      "                   -           kg    m * s**-1    m * s**-1    m * s**-1            m            m            m\n",
      "====================  ===========  ===========  ===========  ===========  ===========  ===========  ===========\n",
      " 2912352189413867787    0.000e+00   -1.878e+05   -8.034e+03    2.056e+03   -2.589e+19    2.946e+20    1.133e+19\n",
      "12900895475112855233    0.000e+00    1.746e+05   -7.040e+04    6.016e+03   -3.008e+19   -4.540e+19    4.428e+18\n",
      "13196190655374549951    0.000e+00   -1.213e+05   -1.408e+05   -8.614e+03   -1.666e+20    1.541e+20   -1.011e+19\n",
      " 7050974111530681869    0.000e+00    1.719e+05    5.630e+04   -1.018e+04    8.241e+19   -3.296e+20   -2.236e+17\n",
      " 4673846032669660385    0.000e+00    1.951e+05    2.349e+02    8.438e+03   -1.082e+18   -3.748e+20   -1.128e+19\n",
      " 2607727313782020651    0.000e+00   -1.915e+05   -2.175e+04    3.912e+03   -3.191e+19    2.627e+20   -4.368e+18\n",
      "16140128760212067762    0.000e+00   -1.517e+05    5.196e+04    4.218e+04    1.907e+19    8.489e+19    1.231e+18\n",
      "11612922954987080975    0.000e+00   -1.693e+05    1.042e+05    2.326e+04    9.572e+19    1.663e+20    6.596e+17\n",
      "12850500366667824741    0.000e+00   -4.080e+04    1.827e+05    4.233e+03    2.031e+20    1.127e+19    8.005e+17\n",
      " 4773903175700677914    0.000e+00   -2.002e+05   -5.171e+04    3.845e+04   -1.160e+19    7.638e+19   -2.358e+18\n",
      " 2947822362518743288    0.000e+00   -5.734e+04   -1.902e+05   -2.998e+03   -3.179e+20    8.110e+19    4.237e+18\n",
      "17828178741662325989    0.000e+00   -1.778e+05   -9.076e+04   -2.804e+04   -1.268e+20    1.741e+20   -6.213e+18\n",
      " 1857387927266024594    0.000e+00   -9.684e+04   -1.874e+05   -1.713e+04   -7.250e+19    3.454e+19    2.628e+18\n",
      "11794066330498562490    0.000e+00   -1.159e+05   -1.173e+05   -4.129e+04   -1.448e+20    1.172e+20   -4.954e+18\n",
      " 8676527222804753370    0.000e+00    1.723e+05   -4.485e+04   -5.054e+03   -1.153e+19   -1.138e+20    2.889e+18\n",
      "18211884626173326200    0.000e+00    7.730e+04    2.151e+05    2.040e+04    5.217e+19   -2.158e+19    2.822e+18\n",
      " 2690450087601263262    0.000e+00    1.648e+05   -1.274e+05    1.016e+04   -9.746e+19   -9.139e+19    1.799e+18\n",
      " 9120954699461028218    0.000e+00   -6.826e+04    1.524e+05   -1.781e+04    7.315e+19    3.731e+19    1.988e+19\n",
      " 4082997282263180302    0.000e+00    1.013e+05    1.113e+05    2.496e+03    1.884e+20   -1.682e+20   -6.704e+18\n",
      " 9205058402595498622    0.000e+00   -1.646e+05    1.122e+05   -1.367e+04    1.255e+20    1.892e+20   -2.792e+18\n",
      "                 ...          ...          ...          ...          ...          ...          ...          ...\n",
      "14602956914541691810    0.000e+00   -3.446e+04    1.697e+05   -6.513e+04   -4.922e+20   -2.831e+20   -1.335e+21\n",
      "11306773920139953369    0.000e+00   -1.238e+05   -4.318e+04    3.278e+04   -3.392e+20    2.480e+21   -3.498e+21\n",
      "11275568906226923527    0.000e+00    6.541e+04    2.701e+04   -8.842e+04    3.440e+21   -1.168e+21    3.477e+21\n",
      "15420409048153856614    0.000e+00    4.526e+04    1.466e+04   -2.994e+04   -3.326e+21   -1.684e+21   -3.980e+21\n",
      " 5864398524256447223    0.000e+00    6.586e+04   -2.545e+04   -8.913e+04   -3.902e+20   -2.663e+21    6.065e+20\n",
      "10391842344882855631    0.000e+00   -6.909e+04    3.202e+04    5.930e+04   -2.056e+21   -3.037e+21   -1.305e+21\n",
      "10986092113046979944    0.000e+00   -3.088e+04   -1.884e+05   -5.709e+04   -3.522e+20   -6.680e+20    4.113e+20\n",
      " 8864884277383539972    0.000e+00   -3.670e+04    2.243e+05   -3.797e+04    3.263e+20   -3.020e+20   -2.838e+20\n",
      "11466742103662582333    0.000e+00    1.844e+05    1.052e+04   -3.827e+04   -1.109e+21   -1.346e+20    1.196e+21\n",
      " 5533873819975823177    0.000e+00    1.585e+05   -1.513e+04    8.232e+04   -1.114e+21   -2.669e+21    1.454e+21\n",
      "17221990386366993032    0.000e+00   -1.043e+05    2.280e+04    6.605e+04    2.486e+21   -3.603e+21    3.020e+21\n",
      "13920470433028154979    0.000e+00   -1.564e+05    7.347e+03   -6.297e+04    4.293e+20   -8.911e+19   -4.626e+20\n",
      "17341482986561469147    0.000e+00    1.153e+05    7.206e+04   -2.086e+05    9.366e+20    4.400e+20    1.838e+20\n",
      "  741569054400226962    0.000e+00    2.125e+04    1.121e+05    8.412e+04   -1.516e+21    1.013e+21    1.050e+21\n",
      " 1767999321544889392    0.000e+00    1.520e+05   -1.559e+05   -8.632e+04   -1.485e+20   -9.160e+20    2.770e+20\n",
      "11995722095213372773    0.000e+00   -7.492e+04    4.916e+04   -6.457e+04   -1.881e+21    4.971e+21    1.482e+20\n",
      "16185744176537933990    0.000e+00    5.243e+04    1.032e+05    3.123e+04   -4.604e+20    1.084e+21   -3.816e+20\n",
      " 3011018105959892325    0.000e+00    9.962e+04   -2.827e+04    2.279e+04    2.117e+21    3.338e+21   -5.600e+20\n",
      "13995224013619317046    0.000e+00    2.130e+04    2.210e+04    4.210e+04   -8.229e+19   -5.071e+21    2.767e+21\n",
      "15187427891933360477    0.000e+00    1.681e+05   -1.576e+05    1.658e+05    1.422e+20   -2.005e+20   -5.345e+20\n",
      "====================  ===========  ===========  ===========  ===========  ===========  ===========  ===========\n"
     ]
    }
   ],
   "source": [
    "print(test_particles_1)"
   ]
  },
  {
   "cell_type": "code",
   "execution_count": 6,
   "metadata": {},
   "outputs": [
    {
     "name": "stdout",
     "output_type": "stream",
     "text": [
      "                 key         mass           vx           vy           vz            x            y            z\n",
      "                   -           kg    m * s**-1    m * s**-1    m * s**-1            m            m            m\n",
      "====================  ===========  ===========  ===========  ===========  ===========  ===========  ===========\n",
      " 5569415534887972413    0.000e+00   -1.879e+05   -8.071e+03    2.049e+03   -2.597e+19    2.952e+20    1.135e+19\n",
      " 1176093441841309330    0.000e+00    1.745e+05   -7.043e+04    6.009e+03   -3.017e+19   -4.544e+19    4.440e+18\n",
      " 7247257094103620223    0.000e+00   -1.214e+05   -1.409e+05   -8.621e+03   -1.669e+20    1.544e+20   -1.013e+19\n",
      "10419877632957027452    0.000e+00    1.717e+05    5.626e+04   -1.018e+04    8.251e+19   -3.301e+20   -2.201e+17\n",
      "13586702358757339627    0.000e+00    1.950e+05    1.979e+02    8.431e+03   -1.122e+18   -3.754e+20   -1.129e+19\n",
      " 8591295143880942043    0.000e+00   -1.917e+05   -2.178e+04    3.905e+03   -3.200e+19    2.632e+20   -4.371e+18\n",
      " 3846102363286225164    0.000e+00   -1.518e+05    5.193e+04    4.217e+04    1.907e+19    8.506e+19    1.237e+18\n",
      "11261760119055284509    0.000e+00   -1.694e+05    1.042e+05    2.326e+04    9.584e+19    1.667e+20    6.647e+17\n",
      "14008835111963382409    0.000e+00   -4.093e+04    1.827e+05    4.225e+03    2.034e+20    1.132e+19    8.058e+17\n",
      "  361421175865369709    0.000e+00   -2.003e+05   -5.175e+04    3.844e+04   -1.166e+19    7.654e+19   -2.358e+18\n",
      " 6228123470313990114    0.000e+00   -5.748e+04   -1.902e+05   -3.005e+03   -3.184e+20    8.127e+19    4.248e+18\n",
      "  967023535993838905    0.000e+00   -1.779e+05   -9.079e+04   -2.804e+04   -1.271e+20    1.744e+20   -6.219e+18\n",
      "14659758636541965907    0.000e+00   -9.697e+04   -1.874e+05   -1.714e+04   -7.266e+19    3.462e+19    2.637e+18\n",
      "14154006084726269619    0.000e+00   -1.160e+05   -1.173e+05   -4.130e+04   -1.450e+20    1.175e+20   -4.959e+18\n",
      " 7218293874187468380    0.000e+00    1.722e+05   -4.489e+04   -5.061e+03   -1.159e+19   -1.140e+20    2.898e+18\n",
      "17546935803186357825    0.000e+00    7.716e+04    2.151e+05    2.039e+04    5.222e+19   -2.159e+19    2.831e+18\n",
      " 5828132751725834406    0.000e+00    1.647e+05   -1.274e+05    1.015e+04   -9.766e+19   -9.152e+19    1.806e+18\n",
      " 4511512195260073627    0.000e+00   -6.839e+04    1.523e+05   -1.782e+04    7.323e+19    3.741e+19    1.991e+19\n",
      "18366233493156126642    0.000e+00    1.011e+05    1.112e+05    2.489e+03    1.887e+20   -1.684e+20   -6.712e+18\n",
      " 6213382647626631721    0.000e+00   -1.648e+05    1.121e+05   -1.368e+04    1.257e+20    1.895e+20   -2.793e+18\n",
      "                 ...          ...          ...          ...          ...          ...          ...          ...\n",
      "14489730000226686467    0.000e+00   -1.237e+05   -4.310e+04    3.274e+04   -3.398e+20    2.484e+21   -3.504e+21\n",
      " 8784883284615644204    0.000e+00    6.542e+04    2.709e+04   -8.846e+04    3.446e+21   -1.170e+21    3.482e+21\n",
      "10020394232362163372    0.000e+00    4.526e+04    1.473e+04   -2.998e+04   -3.332e+21   -1.687e+21   -3.986e+21\n",
      "  585489821872048567    0.000e+00    6.586e+04   -2.537e+04   -8.917e+04   -3.909e+20   -2.667e+21    6.075e+20\n",
      "13291734355073951305    0.000e+00   -6.908e+04    3.210e+04    5.925e+04   -2.059e+21   -3.042e+21   -1.307e+21\n",
      "14228617609403160207    0.000e+00   -3.088e+04   -1.883e+05   -5.713e+04   -3.529e+20   -6.691e+20    4.119e+20\n",
      "16284198426478156724    0.000e+00   -3.670e+04    2.244e+05   -3.801e+04    3.268e+20   -3.025e+20   -2.843e+20\n",
      " 2715289337406824295    0.000e+00    1.844e+05    1.059e+04   -3.831e+04   -1.111e+21   -1.348e+20    1.198e+21\n",
      " 3474682821226543342    0.000e+00    1.585e+05   -1.505e+04    8.227e+04   -1.116e+21   -2.673e+21    1.456e+21\n",
      " 5178477183385070905    0.000e+00   -1.042e+05    2.288e+04    6.600e+04    2.490e+21   -3.609e+21    3.025e+21\n",
      "18268366263741700629    0.000e+00   -1.564e+05    7.424e+03   -6.301e+04    4.299e+20   -8.924e+19   -4.634e+20\n",
      "18340169607667270015    0.000e+00    1.153e+05    7.213e+04   -2.086e+05    9.381e+20    4.408e+20    1.841e+20\n",
      " 7246626045538815486    0.000e+00    2.126e+04    1.122e+05    8.408e+04   -1.518e+21    1.015e+21    1.051e+21\n",
      "13425900837919604582    0.000e+00    1.520e+05   -1.558e+05   -8.636e+04   -1.488e+20   -9.175e+20    2.775e+20\n",
      " 4912298827947376660    0.000e+00   -7.491e+04    4.923e+04   -6.461e+04   -1.885e+21    4.979e+21    1.484e+20\n",
      " 4262274624245086784    0.000e+00    5.244e+04    1.032e+05    3.119e+04   -4.612e+20    1.086e+21   -3.823e+20\n",
      " 6365246767929142479    0.000e+00    9.962e+04   -2.819e+04    2.274e+04    2.120e+21    3.343e+21   -5.609e+20\n",
      "10102204271116877338    0.000e+00    2.131e+04    2.218e+04    4.205e+04   -8.248e+19   -5.080e+21    2.772e+21\n",
      " 8686498459467204495    0.000e+00    1.681e+05   -1.575e+05    1.658e+05    1.423e+20   -2.009e+20   -5.354e+20\n",
      " 3690199518842537425    0.000e+00   -1.067e+04   -1.538e+05    8.299e+04    9.929e+19   -3.873e+19    9.993e+18\n",
      "====================  ===========  ===========  ===========  ===========  ===========  ===========  ===========\n"
     ]
    }
   ],
   "source": [
    "print(test_particles_2)"
   ]
  },
  {
   "cell_type": "code",
   "execution_count": 7,
   "metadata": {},
   "outputs": [
    {
     "name": "stdout",
     "output_type": "stream",
     "text": [
      "2.62342287414 parsec\n",
      "2.84948725324 parsec\n",
      "10.226620306 parsec\n",
      "-3.22824509659 parsec\n",
      "1.28279406188 parsec\n",
      "2.94855429945 parsec\n",
      "0.193812783865 parsec\n",
      "-3.94763796256 parsec\n",
      "-9.75030160359 parsec\n",
      "1.8510242535 parsec\n"
     ]
    }
   ],
   "source": [
    "for i in range(10):\n",
    "    print((test_particles_1[i].x - test_particles_2[i].x).in_(units.parsec))"
   ]
  },
  {
   "cell_type": "code",
   "execution_count": 8,
   "metadata": {},
   "outputs": [
    {
     "name": "stdout",
     "output_type": "stream",
     "text": [
      "47.1660916741 parsec\n",
      "45.7701619493 parsec\n",
      "0.213417991313 parsec\n",
      "83.300057548 parsec\n",
      "55.4443874244 parsec\n",
      "45.1584307464 parsec\n",
      "62.1687425045 parsec\n",
      "87.7422518002 parsec\n",
      "123.569336406 parsec\n",
      "51.9356292625 parsec\n"
     ]
    }
   ],
   "source": [
    "for i in range(10):\n",
    "    print((galaxy1[i].x - test_particles_2[i].x).in_(units.parsec))"
   ]
  },
  {
   "cell_type": "code",
   "execution_count": 9,
   "metadata": {},
   "outputs": [
    {
     "name": "stdout",
     "output_type": "stream",
     "text": [
      "0.131864038512 kms\n",
      "0.140838973809 kms\n",
      "0.133502077358 kms\n",
      "0.14077103954 kms\n",
      "0.141347708184 kms\n",
      "0.131771259627 kms\n",
      "0.132758981341 kms\n",
      "0.132321880631 kms\n",
      "0.135504582302 kms\n",
      "0.1315577153 kms\n"
     ]
    }
   ],
   "source": [
    "for i in range(10):\n",
    "    print((test_particles_1[i].vx - test_particles_2[i].vx).in_(units.kms))"
   ]
  },
  {
   "cell_type": "code",
   "execution_count": 10,
   "metadata": {},
   "outputs": [
    {
     "name": "stdout",
     "output_type": "stream",
     "text": [
      "11650.3978821 3.08567758128e+16 * m 1168.41101772 parsec\n",
      "7300.18127356 3.08567758128e+16 * m 385.818479387 parsec\n",
      "10022.2487389 3.08567758128e+16 * m 269.696617974 parsec\n",
      "12860.6131376 3.08567758128e+16 * m 477.009747431 parsec\n",
      "13812.233069 3.08567758128e+16 * m 622.649604059 parsec\n",
      "10866.8653563 3.08567758128e+16 * m 706.578573325 parsec\n",
      "7543.57177743 3.08567758128e+16 * m 288.386016649 parsec\n",
      "9197.93434884 3.08567758128e+16 * m 675.339934246 parsec\n",
      "9528.70742995 3.08567758128e+16 * m 795.97906519 parsec\n",
      "7466.270959 3.08567758128e+16 * m 305.462671146 parsec\n",
      "CPU times: user 163 ms, sys: 1.66 ms, total: 165 ms\n",
      "Wall time: 162 ms\n"
     ]
    }
   ],
   "source": [
    "%%time\n",
    "disk_test1 = test_particles_1[:1000]\n",
    "dist_test2 = test_particles_2[:1000]\n",
    "\n",
    "\n",
    "\n",
    "\n",
    "for i in range(10):\n",
    "    distance = (((disk_test1[:].x - disk_test1[i].x)**2 + (disk_test1[:].y - disk_test1[i].y)**2 +(disk_test1[:].z - disk_test1[i].z)**2)**0.5).in_(units.parsec)\n",
    "    distance_to_rest = np.delete(distance,i)\n",
    "    print(np.mean(distance_to_rest),distance_to_rest.min())"
   ]
  },
  {
   "cell_type": "code",
   "execution_count": 11,
   "metadata": {},
   "outputs": [
    {
     "name": "stdout",
     "output_type": "stream",
     "text": [
      "1754.24603145 3.08567758128e+16 * m 194.385095449 parsec\n",
      "1475.24071105 3.08567758128e+16 * m 180.974779239 parsec\n",
      "3340.15932968 3.08567758128e+16 * m 321.940399563 parsec\n",
      "1872.02841576 3.08567758128e+16 * m 218.5917197 parsec\n",
      "2125.43520972 3.08567758128e+16 * m 63.176860519 parsec\n",
      "2135.19999359 3.08567758128e+16 * m 219.048422464 parsec\n",
      "1426.22892351 3.08567758128e+16 * m 160.359822155 parsec\n",
      "1396.36915762 3.08567758128e+16 * m 37.0468209748 parsec\n",
      "2069.46439529 3.08567758128e+16 * m 336.655470134 parsec\n",
      "3322.85119148 3.08567758128e+16 * m 104.622675948 parsec\n"
     ]
    }
   ],
   "source": [
    "bulge_test1 = test_particles_1[1000:2000]\n",
    "bulge_test2 = test_particles_2[1000:2000]\n",
    "\n",
    "\n",
    "\n",
    "\n",
    "for i in range(10):\n",
    "    distance = (((bulge_test1[:].x - bulge_test1[i].x)**2 + (bulge_test1[:].y - bulge_test1[i].y)**2 +(bulge_test1[:].z - bulge_test1[i].z)**2)**0.5).in_(units.parsec)\n",
    "    distance_to_rest = np.delete(distance,i)\n",
    "    print(np.mean(distance_to_rest),distance_to_rest.min())"
   ]
  },
  {
   "cell_type": "code",
   "execution_count": 12,
   "metadata": {},
   "outputs": [
    {
     "name": "stdout",
     "output_type": "stream",
     "text": [
      "[43.8771572488, 21.4442351244, 37.9723229158, -15.3134042199, -9.84677788195] parsec\n",
      "[58.7392781174, -52.5265654689, -62.1677439811, -41.6142238762, 64.3661956002] parsec\n",
      "[-18.1025436799, -35.5169512141, 65.3464247544, 27.1906112106, -45.3286916296] parsec\n"
     ]
    }
   ],
   "source": [
    "# add a random position to the test_particles\n",
    "np.random.seed(94)\n",
    "\n",
    "random_x = (np.random.random(n_bulge_test+n_disk_test) * 200) - 100 |units.parsec\n",
    "random_y = (np.random.random(n_bulge_test+n_disk_test) * 200) - 100 |units.parsec\n",
    "random_z = (np.random.random(n_bulge_test+n_disk_test) * 200) - 100 |units.parsec\n",
    "\n",
    "print(random_x[:5])\n",
    "print(random_y[:5])\n",
    "print(random_z[:5])\n",
    "\n",
    "test_particles_1.x[:n_bulge_test+n_disk_test] += random_x\n",
    "test_particles_1.y[:n_bulge_test+n_disk_test] += random_y\n",
    "test_particles_1.z[:n_bulge_test+n_disk_test] += random_z"
   ]
  },
  {
   "cell_type": "code",
   "execution_count": 13,
   "metadata": {},
   "outputs": [],
   "source": [
    "converter = nbody_system.nbody_to_si(1e12|units.MSun, 100|units.kpc)\n",
    "dynamics = BHTree(converter,number_of_workers = 1)\n",
    "dynamics.parameters.epsilon_squared = (100|units.parsec)**2\n",
    "dynamics.parameters.timestep = 1 |units.Myr\n",
    "set1 = dynamics.particles.add_particles(galaxy1)"
   ]
  },
  {
   "cell_type": "code",
   "execution_count": 14,
   "metadata": {},
   "outputs": [],
   "source": [
    "test_particles_1_stars = test_particles_1[:int(n_bulge_test+n_disk_test)]\n",
    "star_dynamics = BHTree(converter)\n",
    "star_set_1 = star_dynamics.particles.add_particles(test_particles_1_stars)\n",
    "star_dynamics.parameters.timestep = 1|units.Myr"
   ]
  },
  {
   "cell_type": "code",
   "execution_count": 15,
   "metadata": {},
   "outputs": [],
   "source": [
    "gravity = bridge.Bridge(use_threading=False)\n",
    "gravity.add_system(star_dynamics, (dynamics,) )\n",
    "gravity.add_system(dynamics)\n",
    "gravity.timestep = 1|units.Myr\n",
    "channel_stars = star_dynamics.particles.new_channel_to(star_dynamics.particles)\n",
    "channel_galaxies = dynamics.particles.new_channel_to(dynamics.particles)"
   ]
  },
  {
   "cell_type": "code",
   "execution_count": 17,
   "metadata": {},
   "outputs": [
    {
     "name": "stderr",
     "output_type": "stream",
     "text": [
      "100%|██████████| 101/101 [05:48<00:00,  3.45s/it]\n"
     ]
    }
   ],
   "source": [
    "#channel = dynamics.particles.new_channel_to(dynamics.particles)\n",
    "times = np.arange(0., 101, 1) | units.Myr\n",
    "threshold = 10. |units.Myr \n",
    "for time in tqdm(range(len(times))):\n",
    "    gravity.evolve_model(times[time])\n",
    "    if times[time] %threshold == 0|units.Myr:\n",
    "        channel_galaxies.copy()\n",
    "        plt.figure(figsize = (10,8))\n",
    "        plt.scatter(set1.x[:int(n_disk)].value_in(units.kpc), set1.y[:int(n_bulge)].value_in(units.kpc), s=0.3,label = 'Disk')\n",
    "        plt.scatter(set1.x[int(n_disk):int(n_disk+n_bulge)].value_in(units.kpc), set1.y[int(n_disk):int(n_bulge+n_disk)].value_in(units.kpc), s=0.3,label = 'Bulge')\n",
    "        plt.title(\"Disk + Bulge \\n time = \" +str(times[time]) )\n",
    "        plt.legend()\n",
    "        plt.xlabel(\"x [kpc]\")\n",
    "        plt.ylabel(\"y [kpc]\")\n",
    "        plt.xlim(-25,25)\n",
    "        #plt.axis(\"equal\")\n",
    "        plt.ylim(-25,25)\n",
    "        plt.savefig(\"test_plots_xy/snap%04d.png\"%time)\n",
    "        #plt.show()\n",
    "        plt.close()\n",
    "        \n",
    "        plt.figure(figsize = (10,8))\n",
    "        plt.scatter(set1.x[:int(n_disk)].value_in(units.kpc), set1.z[:int(n_bulge)].value_in(units.kpc), s=0.3,label = 'Disk')\n",
    "        plt.scatter(set1.x[int(n_disk):int(n_disk+n_bulge)].value_in(units.kpc), set1.z[int(n_disk):int(n_bulge+n_disk)].value_in(units.kpc), s=0.3,label = 'Bulge')\n",
    "        plt.title(\"Disk + Bulge \\n time = \" +str(times[time]) )\n",
    "        plt.legend()\n",
    "        plt.xlabel(\"x [kpc]\")\n",
    "        plt.ylabel(\"z [kpc]\")\n",
    "        plt.xlim(-25,25)\n",
    "        #plt.axis(\"equal\")\n",
    "        plt.ylim(-25,25)\n",
    "        plt.savefig(\"test_plots_xz/snap%04d.png\"%time)\n",
    "        #plt.show()\n",
    "        plt.close()\n",
    "        \n",
    "        channel_stars.copy()\n",
    "        plt.figure(figsize = (10,8))\n",
    "        plt.scatter(star_set_1.x[:int(n_disk_test)].value_in(units.kpc), star_set_1.y[:int(n_bulge_test)].value_in(units.kpc), s=0.3,label = 'Disk')\n",
    "        plt.scatter(star_set_1.x[int(n_disk_test):int(n_disk_test+n_bulge_test)].value_in(units.kpc), star_set_1.y[int(n_disk_test):int(n_bulge+n_disk)].value_in(units.kpc), s=0.3,label = 'Bulge')\n",
    "        plt.title(\"Disk + Bulge \\n time = \" +str(times[time]) )\n",
    "        plt.legend()\n",
    "        plt.xlabel(\"x [kpc]\")\n",
    "        plt.ylabel(\"y [kpc]\")\n",
    "        plt.xlim(-25,25)\n",
    "        #plt.axis(\"equal\")\n",
    "        plt.ylim(-25,25)\n",
    "        plt.savefig(\"test_plots_stars_xy/snap%04d.png\"%time)\n",
    "        #plt.show()\n",
    "        plt.close()\n",
    "        \n",
    "        plt.figure(figsize = (10,8))\n",
    "        plt.scatter(star_set_1.x[:int(n_disk_test)].value_in(units.kpc), star_set_1.z[:int(n_bulge_test)].value_in(units.kpc), s=0.3,label = 'Disk')\n",
    "        plt.scatter(star_set_1.x[int(n_disk_test):int(n_disk_test+n_bulge_test)].value_in(units.kpc), star_set_1.z[int(n_disk_test):int(n_bulge+n_disk)].value_in(units.kpc), s=0.3,label = 'Bulge')\n",
    "        plt.title(\"Disk + Bulge \\n time = \" +str(times[time]) )\n",
    "        plt.legend()\n",
    "        plt.xlabel(\"x [kpc]\")\n",
    "        plt.ylabel(\"z [kpc]\")\n",
    "        plt.xlim(-25,25)\n",
    "        #plt.axis(\"equal\")\n",
    "        plt.ylim(-25,25)\n",
    "        plt.savefig(\"test_plots_stars_xz/snap%04d.png\"%time)\n",
    "        #plt.show()\n",
    "        plt.close()\n",
    "        \n",
    "gravity.stop()"
   ]
  },
  {
   "cell_type": "code",
   "execution_count": null,
   "metadata": {},
   "outputs": [],
   "source": []
  },
  {
   "cell_type": "code",
   "execution_count": null,
   "metadata": {},
   "outputs": [],
   "source": []
  }
 ],
 "metadata": {
  "kernelspec": {
   "display_name": "Python 3",
   "language": "python",
   "name": "python3"
  },
  "language_info": {
   "codemirror_mode": {
    "name": "ipython",
    "version": 3
   },
   "file_extension": ".py",
   "mimetype": "text/x-python",
   "name": "python",
   "nbconvert_exporter": "python",
   "pygments_lexer": "ipython3",
   "version": "3.8.5"
  }
 },
 "nbformat": 4,
 "nbformat_minor": 4
}
