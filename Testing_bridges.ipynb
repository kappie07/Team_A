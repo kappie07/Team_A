{
 "cells": [
  {
   "cell_type": "code",
   "execution_count": 1,
   "metadata": {},
   "outputs": [],
   "source": [
    "from amuse.units import units\n",
    "from amuse.lab import Huayno, nbody_system, new_galactics_model\n",
    "from amuse.lab import Gadget2\n",
    "from amuse.community.ph4.interface import ph4\n",
    "import copy\n",
    "import numpy as np\n",
    "import matplotlib.pyplot as plt\n",
    "from tqdm import tqdm\n",
    "from amuse.couple import bridge\n",
    "from amuse.community.hermite.interface import Hermite\n",
    "from amuse.community.bhtree.interface import BHTree"
   ]
  },
  {
   "cell_type": "code",
   "execution_count": 2,
   "metadata": {},
   "outputs": [
    {
     "name": "stdout",
     "output_type": "stream",
     "text": [
      "Warning: do_scale for a large galactics model may be very slow\n",
      "CPU times: user 2.17 s, sys: 1.23 s, total: 3.4 s\n",
      "Wall time: 5.67 s\n"
     ]
    }
   ],
   "source": [
    "%%time\n",
    "\n",
    "# Milky Way := Mdisk = 4.5 Mbulge | Mhalo = 100 Mbulge\n",
    "# Andromeda := Mdisk = 4-7 Mbulge | Mhalo = 87 Mbulge\n",
    "# Mdisk = 5 Mbulge, Mhalo = 95 Mbulge\n",
    "\n",
    "n_halo  = 4750.0\n",
    "n_bulge = 50.0\n",
    "n_disk  = 250.0\n",
    "M_galaxy = 1e12 | units.MSun\n",
    "R_galaxy = 80  | units.kpc\n",
    "converter = nbody_system.nbody_to_si(M_galaxy, R_galaxy)\n",
    "\n",
    "galaxy1 = new_galactics_model(n_halo,\n",
    "                                converter,\n",
    "                                do_scale=True,\n",
    "                                bulge_number_of_particles=n_bulge,\n",
    "                                disk_number_of_particles=n_disk)\n",
    "# Order of particles: Disk => Bulge => Halo"
   ]
  },
  {
   "cell_type": "code",
   "execution_count": 3,
   "metadata": {},
   "outputs": [
    {
     "name": "stdout",
     "output_type": "stream",
     "text": [
      "Warning: do_scale for a large galactics model may be very slow\n",
      "CPU times: user 2.24 s, sys: 1.3 s, total: 3.54 s\n",
      "Wall time: 3.68 s\n"
     ]
    }
   ],
   "source": [
    "%%time\n",
    "M_galaxy_2 = 5e11 | units.MSun\n",
    "R_galaxy_2 = 50  | units.kpc\n",
    "converter_2 = nbody_system.nbody_to_si(M_galaxy_2, R_galaxy_2)\n",
    "galaxy2 = new_galactics_model(n_halo,\n",
    "                                converter_2,\n",
    "                                do_scale=True,\n",
    "                                bulge_number_of_particles=n_bulge,\n",
    "                                disk_number_of_particles=n_disk)"
   ]
  },
  {
   "cell_type": "code",
   "execution_count": 4,
   "metadata": {},
   "outputs": [
    {
     "name": "stdout",
     "output_type": "stream",
     "text": [
      "CPU times: user 2.79 ms, sys: 3.38 ms, total: 6.18 ms\n",
      "Wall time: 6.34 ms\n"
     ]
    }
   ],
   "source": [
    "%%time\n",
    "galaxy1.rotate(0., np.pi/2, 0.)\n",
    "galaxy2.x  += 400 | units.kpc\n",
    "galaxy2.vx += -100 |units.kms\n",
    "galaxy2.vy += +10 |units.kms"
   ]
  },
  {
   "cell_type": "code",
   "execution_count": 5,
   "metadata": {},
   "outputs": [],
   "source": [
    "converter = nbody_system.nbody_to_si(1.e12|units.MSun, 100|units.kpc)\n",
    "dynamics = BHTree(converter) # ph4 Does the trick, but is kinda slow\n",
    "dynamics.parameters.epsilon_squared = (100|units.parsec)**2\n",
    "set1 = dynamics.particles.add_particles(galaxy1)\n",
    "set2 = dynamics.particles.add_particles(galaxy2)"
   ]
  },
  {
   "cell_type": "code",
   "execution_count": 8,
   "metadata": {},
   "outputs": [
    {
     "name": "stdout",
     "output_type": "stream",
     "text": [
      "Warning: do_scale for a large galactics model may be very slow\n",
      "Warning: do_scale for a large galactics model may be very slow\n",
      "CPU times: user 3.62 s, sys: 3.16 s, total: 6.78 s\n",
      "Wall time: 8.91 s\n"
     ]
    }
   ],
   "source": [
    "%%time\n",
    "n_halo_test  = 1000\n",
    "n_disk_test  = 1000\n",
    "n_bulge_test = 1000\n",
    "\n",
    "test_particles_1 = new_galactics_model(n_halo_test,\n",
    "                                converter,\n",
    "                                do_scale=True,\n",
    "                                bulge_number_of_particles=n_bulge_test,\n",
    "                                disk_number_of_particles=n_disk_test)\n",
    "\n",
    "test_particles_2 = new_galactics_model(n_halo_test,\n",
    "                                converter_2,\n",
    "                                do_scale=True,\n",
    "                                bulge_number_of_particles=n_bulge_test,\n",
    "                                disk_number_of_particles=n_disk_test)"
   ]
  },
  {
   "cell_type": "code",
   "execution_count": 9,
   "metadata": {},
   "outputs": [
    {
     "name": "stderr",
     "output_type": "stream",
     "text": [
      "Exception ignored in: <function CodeInterface.__del__ at 0x7f93ef3eb310>\n",
      "Traceback (most recent call last):\n",
      "  File \"/home/kasper/.local/lib/python3.8/site-packages/amuse/rfi/core.py\", line 755, in __del__\n",
      "    self._stop()\n",
      "  File \"/home/kasper/.local/lib/python3.8/site-packages/amuse/rfi/core.py\", line 845, in _stop\n",
      "    self._stop_worker()\n",
      "  File \"/home/kasper/.local/lib/python3.8/site-packages/amuse/rfi/core.py\", line 123, in __call__\n",
      "    raise exceptions.CodeException(\"Exception when calling function '{0}', of code '{1}', exception was '{2}'\".format(self.specification.name, type(self.interface).__name__, ex))\n",
      "amuse.support.exceptions.CodeException: Exception when calling function '_stop_worker', of code 'GalactICsInterface', exception was 'You've tried to send a message to a code that is already handling a message, this is not correct'\n"
     ]
    }
   ],
   "source": [
    "#set the mass of the test particles to 0\n",
    "test_particles_1.mass = 0 |units.kg\n",
    "test_particles_2.mass = 0 |units.kg\n",
    "\n",
    "#we're only interested in the particles from the stars, and not the halo.\n",
    "test_particles_1_stars = test_particles_1[:int(n_bulge_test+n_disk_test)]\n",
    "test_particles_2_stars = test_particles_2[:int(n_bulge_test+n_disk_test)]\n",
    "\n",
    "#rotate and translate in the same way as the galaxies\n",
    "test_particles_1_stars.rotate(0., np.pi/2, 0.)\n",
    "test_particles_2_stars.x  += 400 | units.kpc\n",
    "test_particles_2_stars.vx += -100 |units.kms\n",
    "test_particles_2_stars.vy += +10 |units.kms\n",
    "\n",
    "star_dynamics = BHTree(converter)\n",
    "star_set_1 = star_dynamics.particles.add_particles(test_particles_1_stars)\n",
    "star_set_2 = star_dynamics.particles.add_particles(test_particles_2_stars)"
   ]
  },
  {
   "cell_type": "code",
   "execution_count": 10,
   "metadata": {},
   "outputs": [],
   "source": [
    "gravity = bridge.Bridge(use_threading=False)\n",
    "gravity.add_system(star_dynamics, (dynamics,) )\n",
    "gravity.add_system(dynamics)\n",
    "#gravity.add_system(star_dynamics, (galaxy2,) )\n",
    "#gravity.add_system(galaxy2, (galaxy1,) )\n",
    "#gravity.add_system(galaxy1, (galaxy2,) )\n",
    "channel = star_dynamics.particles.new_channel_to(star_dynamics.particles)"
   ]
  },
  {
   "cell_type": "code",
   "execution_count": 11,
   "metadata": {},
   "outputs": [
    {
     "name": "stderr",
     "output_type": "stream",
     "text": [
      "\r",
      "  0%|          | 0/500 [00:00<?, ?it/s]"
     ]
    },
    {
     "data": {
      "image/png": "[encoded data removed]",
      "text/plain": [
       "<Figure size 720x576 with 1 Axes>"
      ]
     },
     "metadata": {
      "needs_background": "light"
     },
     "output_type": "display_data"
    },
    {
     "name": "stderr",
     "output_type": "stream",
     "text": [
      "  0%|          | 0/500 [00:00<?, ?it/s]\n"
     ]
    }
   ],
   "source": [
    "gravity.timestep = 10|units.Myr\n",
    "threshold = 20. |units.Myr \n",
    "\n",
    "times = np.arange(0., 5000, 10) | units.Myr\n",
    "for time in tqdm(range(len(times))):\n",
    "    gravity.evolve_model(times[time])\n",
    "    if times[time] %threshold == 0|units.Myr:\n",
    "        channel.copy()\n",
    "        '''\n",
    "        #saving the orbit of the stars with mass\n",
    "        plt.figure(figsize = (10,8))\n",
    "        plt.scatter(set1.x[:int(n_bulge+n_disk)].value_in(units.kpc), set1.y[:int(n_bulge+n_disk)].value_in(units.kpc), s=0.3,label = 'Big galaxy')\n",
    "        plt.scatter(set2.x[:int(n_bulge+n_disk)].value_in(units.kpc), set2.y[:int(n_bulge+n_disk)].value_in(units.kpc), s=0.3,label = 'Small galaxy')\n",
    "        plt.title(\"Disk + Bulge \\n time = \" +str(times[time]) )\n",
    "        plt.legend()\n",
    "        plt.xlabel(\"x [kpc]\")\n",
    "        plt.ylabel(\"y [kpc]\")\n",
    "        plt.xlim(-200,500)\n",
    "        plt.axis(\"equal\")\n",
    "        #plt.ylim(-100,100)\n",
    "        plt.savefig('./merge_plots/snap%04d.png'%time)\n",
    "        #plt.show()\n",
    "        plt.close()\n",
    "        '''\n",
    "        #saving the orbit of the massless tracers\n",
    "        plt.figure(figsize = (10,8))\n",
    "        plt.scatter(star_set_1.x[:int(n_disk)].value_in(units.kpc), star_set_1.y[:int(n_disk)].value_in(units.kpc), s=1,label = 'Big galaxy (disk)',color = 'b')\n",
    "        plt.scatter(star_set_2.x[:int(n_disk)].value_in(units.kpc), star_set_2.y[:int(n_disk)].value_in(units.kpc), s=1,label = 'Small galaxy (disk)', color ='k')\n",
    "        plt.scatter(star_set_1.x[int(n_disk):int(n_bulge+n_disk)].value_in(units.kpc), star_set_1.y[int(n_disk):int(n_bulge+n_disk)].value_in(units.kpc), s=1,label = 'Big galaxy (bulge)',color = 'r')\n",
    "        plt.scatter(star_set_2.x[int(n_disk):int(n_bulge+n_disk)].value_in(units.kpc), star_set_2.y[int(n_disk):int(n_bulge+n_disk)].value_in(units.kpc), s=1,label = 'Small galaxy bulge',color = 'magenta')\n",
    "        plt.title(\"Disk + Bulge for test particles \\n time = \" +str(times[time]) )\n",
    "        plt.legend()\n",
    "        plt.xlabel(\"x [kpc]\")\n",
    "        plt.ylabel(\"y [kpc]\")\n",
    "        plt.xlim(-200,600)\n",
    "        #plt.axis(\"equal\")\n",
    "        plt.ylim(-200,200)\n",
    "        plt.savefig('./star_plots/snapshots/snap%04d.png'%time)\n",
    "        plt.show()\n",
    "        break\n",
    "        plt.close()\n",
    "#gravity.stop()"
   ]
  },
  {
   "cell_type": "code",
   "execution_count": null,
   "metadata": {},
   "outputs": [],
   "source": [
    "plt.figure(figsize=[10,8])\n",
    "plt.scatter(galaxy1.x[:int(n_bulge+n_disk)].value_in(units.kpc), galaxy1.y[:int(n_bulge+n_disk)].value_in(units.kpc), s=0.3)\n",
    "plt.scatter(galaxy2.x[:int(n_bulge+n_disk)].value_in(units.kpc), galaxy2.y[:int(n_bulge+n_disk)].value_in(units.kpc), s=0.3)\n",
    "plt.axis(\"equal\")\n",
    "plt.show()\n",
    "\n",
    "\"\"\"\n",
    "plt.figure(figsize=[10,8])\n",
    "plt.scatter(galaxy1.x[int(n_bulge+n_disk):].value_in(units.kpc), galaxy1.y[int(n_bulge+n_disk):].value_in(units.kpc), s=0.3)\n",
    "plt.scatter(galaxy2.x[int(n_bulge+n_disk):].value_in(units.kpc), galaxy2.y[int(n_bulge+n_disk):].value_in(units.kpc), s=0.3)\n",
    "plt.axis(\"equal\")\n",
    "plt.show()\"\"\""
   ]
  },
  {
   "cell_type": "code",
   "execution_count": null,
   "metadata": {},
   "outputs": [],
   "source": [
    "plt.figure(figsize=[10,8])\n",
    "plt.scatter(set1.x[:int(n_bulge+n_disk)].value_in(units.kpc), set1.y[:int(n_bulge+n_disk)].value_in(units.kpc), s=1.5)\n",
    "plt.scatter(set2.x[:int(n_bulge+n_disk)].value_in(units.kpc), set2.y[:int(n_bulge+n_disk)].value_in(units.kpc), s=1.5)\n",
    "plt.title(\"Disk + Bulge\")\n",
    "plt.axis(\"equal\")\n",
    "plt.show()\n",
    "\n",
    "\"\"\"\n",
    "plt.figure(figsize=[10,8])\n",
    "plt.scatter(set1.x[int(n_bulge+n_disk):].value_in(units.kpc), set1.y[int(n_bulge+n_disk):].value_in(units.kpc), s=1.5)\n",
    "plt.scatter(set2.x[int(n_bulge+n_disk):].value_in(units.kpc), set2.y[int(n_bulge+n_disk):].value_in(units.kpc), s=1.5)\n",
    "plt.title(\"Halo\")\n",
    "plt.axis(\"equal\")\n",
    "plt.show()\"\"\""
   ]
  },
  {
   "cell_type": "code",
   "execution_count": null,
   "metadata": {},
   "outputs": [],
   "source": [
    "plt.figure(figsize=[10,8])\n",
    "plt.scatter(test_particles_1_stars.x[:int(n_bulge_test+n_disk_test)].value_in(units.kpc), test_particles_1_stars.y[:int(n_bulge_test+n_disk_test)].value_in(units.kpc), s=0.3)\n",
    "plt.scatter(test_particles_2_stars.x[:int(n_bulge_test+n_disk_test)].value_in(units.kpc), test_particles_2_stars.y[:int(n_bulge_test+n_disk_test)].value_in(units.kpc), s=0.3)\n",
    "plt.title(\"Disk + Bulge\")\n",
    "plt.axis(\"equal\")\n",
    "plt.show()"
   ]
  },
  {
   "cell_type": "code",
   "execution_count": null,
   "metadata": {},
   "outputs": [],
   "source": [
    "plt.figure(figsize=[10,8])\n",
    "plt.scatter(star_set_1.x[:int(n_bulge_test+n_disk_test)].value_in(units.kpc), star_set_1.y[:int(n_bulge_test+n_disk_test)].value_in(units.kpc), s=1.5)\n",
    "plt.scatter(star_set_2.x[:int(n_bulge_test+n_disk_test)].value_in(units.kpc), star_set_2.y[:int(n_bulge_test+n_disk_test)].value_in(units.kpc), s=1.5)\n",
    "plt.title(\"Disk + Bulge\")\n",
    "#plt.axis(\"equal\")\n",
    "plt.ylim(-120, 120)\n",
    "plt.xlim(-150, 160)\n",
    "plt.show()\n",
    "\n",
    "plt.figure(figsize=[10,8])\n",
    "plt.scatter(set1.x[:int(n_bulge+n_disk)].value_in(units.kpc), set1.y[:int(n_bulge+n_disk)].value_in(units.kpc), s=1.5)\n",
    "plt.scatter(set2.x[:int(n_bulge+n_disk)].value_in(units.kpc), set2.y[:int(n_bulge+n_disk)].value_in(units.kpc), s=1.5)\n",
    "plt.title(\"Disk + Bulge\")\n",
    "plt.axis(\"equal\")\n",
    "plt.show()"
   ]
  },
  {
   "cell_type": "code",
   "execution_count": null,
   "metadata": {},
   "outputs": [],
   "source": [
    "plt.figure(figsize = (10,8))\n",
    "plt.scatter(set1.x[:int(n_bulge+n_disk)].value_in(units.kpc), set1.y[:int(n_bulge+n_disk)].value_in(units.kpc), s=0.3,label = 'Big galaxy')\n",
    "plt.scatter(set2.x[:int(n_bulge+n_disk)].value_in(units.kpc), set2.y[:int(n_bulge+n_disk)].value_in(units.kpc), s=0.3,label = 'Small galaxy')\n",
    "plt.text(-75,60,\"time = \" + str(times[time])+ \"Myr\")\n",
    "plt.title(\"Disk + Bulge\")\n",
    "#plt.axis(\"equal\") \n",
    "plt.legend()\n",
    "plt.xlabel(\"x [kpc]\")\n",
    "plt.ylabel(\"y [kpc]\")\n",
    "plt.xlim(-100,500)\n",
    "plt.ylim(-75,75)\n",
    "plt.show()"
   ]
  }
 ],
 "metadata": {
  "kernelspec": {
   "display_name": "Python 3",
   "language": "python",
   "name": "python3"
  },
  "language_info": {
   "codemirror_mode": {
    "name": "ipython",
    "version": 3
   },
   "file_extension": ".py",
   "mimetype": "text/x-python",
   "name": "python",
   "nbconvert_exporter": "python",
   "pygments_lexer": "ipython3",
   "version": "3.8.5"
  }
 },
 "nbformat": 4,
 "nbformat_minor": 4
}
