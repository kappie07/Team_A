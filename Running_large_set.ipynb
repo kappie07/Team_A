{
 "cells": [
  {
   "cell_type": "code",
   "execution_count": 1,
   "metadata": {},
   "outputs": [],
   "source": [
    "from amuse.units import units\n",
    "from amuse.lab import Huayno, nbody_system, new_galactics_model\n",
    "from amuse.lab import Gadget2\n",
    "from amuse.community.ph4.interface import ph4\n",
    "import copy\n",
    "import numpy as np\n",
    "import matplotlib.pyplot as plt\n",
    "from tqdm import tqdm\n",
    "from amuse.couple import bridge\n",
    "from amuse.community.hermite.interface import Hermite\n",
    "from amuse.community.bhtree.interface import BHTree\n",
    "from astropy.io import fits"
   ]
  },
  {
   "cell_type": "markdown",
   "metadata": {},
   "source": [
    "Initialize the galaxies"
   ]
  },
  {
   "cell_type": "code",
   "execution_count": 2,
   "metadata": {},
   "outputs": [
    {
     "name": "stdout",
     "output_type": "stream",
     "text": [
      "Warning: do_scale for a large galactics model may be very slow\n",
      "Warning: do_scale for a large galactics model may be very slow\n",
      "Warning: do_scale for a large galactics model may be very slow\n",
      "Warning: do_scale for a large galactics model may be very slow\n",
      "CPU times: user 55.9 s, sys: 9.02 s, total: 1min 4s\n",
      "Wall time: 1min 8s\n"
     ]
    }
   ],
   "source": [
    "%%time\n",
    "\n",
    "\n",
    "n_halo  = 20000\n",
    "n_bulge = 10000\n",
    "n_disk  = 10000\n",
    "M_galaxy = 1e12 | units.MSun\n",
    "R_galaxy = 80  | units.kpc\n",
    "converter = nbody_system.nbody_to_si(M_galaxy, R_galaxy)\n",
    "\n",
    "galaxy1 = new_galactics_model(n_halo,\n",
    "                                converter,\n",
    "                                do_scale=True,\n",
    "                                bulge_number_of_particles=n_bulge,\n",
    "                                disk_number_of_particles=n_disk)\n",
    "galaxy1.move_to_center()\n",
    "# Order of particles: Disk => Bulge => Halo\n",
    "\n",
    "galaxy2 = new_galactics_model(n_halo,\n",
    "                                converter,\n",
    "                                do_scale=True,\n",
    "                                bulge_number_of_particles=n_bulge,\n",
    "                                disk_number_of_particles=n_disk)\n",
    "galaxy2.move_to_center()\n",
    "\n",
    "n_halo_test  = 20000\n",
    "n_disk_test  = 10000\n",
    "n_bulge_test = 10000\n",
    "\n",
    "test_particles_1 = new_galactics_model(n_halo_test,\n",
    "                                converter,\n",
    "                                do_scale=True,\n",
    "                                bulge_number_of_particles=n_bulge_test,\n",
    "                                disk_number_of_particles=n_disk_test)\n",
    "\n",
    "test_particles_1.move_to_center()\n",
    "test_particles_1.mass = 0 |units.kg\n",
    "\n",
    "test_particles_2 = new_galactics_model(n_halo_test,\n",
    "                                converter,\n",
    "                                do_scale=True,\n",
    "                                bulge_number_of_particles=n_bulge_test,\n",
    "                                disk_number_of_particles=n_disk_test)\n",
    "\n",
    "test_particles_2.move_to_center()\n",
    "test_particles_2.mass = 0 |units.kg\n",
    "\n",
    "test_particles_1_stars = test_particles_1[:int(n_bulge_test+n_disk_test)]\n",
    "test_particles_2_stars = test_particles_2[:int(n_bulge_test+n_disk_test)]"
   ]
  },
  {
   "cell_type": "markdown",
   "metadata": {},
   "source": [
    "We rotate the test particles by 180 degrees in the x & y direction to make sure that the particles are not on top of the stars of the galaxies"
   ]
  },
  {
   "cell_type": "code",
   "execution_count": 3,
   "metadata": {},
   "outputs": [],
   "source": [
    "test_particles_1_stars.rotate(np.pi,np.pi,0)\n",
    "test_particles_2_stars.rotate(np.pi,np.pi,0)"
   ]
  },
  {
   "cell_type": "markdown",
   "metadata": {},
   "source": [
    "move and rotate the galaxies to their appropiate initial conditions"
   ]
  },
  {
   "cell_type": "code",
   "execution_count": 4,
   "metadata": {},
   "outputs": [],
   "source": [
    "galaxy1.rotate(0., np.pi/2, 0.)\n",
    "galaxy2.x  += 400 | units.kpc\n",
    "galaxy2.vx += -500 |units.kms\n",
    "\n",
    "test_particles_1_stars.rotate(0., np.pi/2, 0.)\n",
    "test_particles_2_stars.x  += 400 | units.kpc\n",
    "test_particles_2.vx += -500 |units.kms"
   ]
  },
  {
   "cell_type": "markdown",
   "metadata": {},
   "source": [
    "Create the the gravity solvers and add the particles"
   ]
  },
  {
   "cell_type": "code",
   "execution_count": 5,
   "metadata": {},
   "outputs": [],
   "source": [
    "converter = nbody_system.nbody_to_si(1e12|units.MSun, 100|units.kpc)\n",
    "dynamics = BHTree(converter) \n",
    "dynamics.parameters.epsilon_squared = (100|units.parsec)**2\n",
    "dynamics.parameters.timestep = 1 |units.Myr\n",
    "set1 = dynamics.particles.add_particles(galaxy1)\n",
    "set2 = dynamics.particles.add_particles(galaxy2)\n",
    "\n",
    "star_dynamics = BHTree(converter)\n",
    "star_set_1 = star_dynamics.particles.add_particles(test_particles_1_stars)\n",
    "star_set_2 = star_dynamics.particles.add_particles(test_particles_2_stars)\n",
    "star_dynamics.parameters.timestep = 1|units.Myr"
   ]
  },
  {
   "cell_type": "markdown",
   "metadata": {},
   "source": [
    "Create the bridge and the channels"
   ]
  },
  {
   "cell_type": "code",
   "execution_count": 6,
   "metadata": {},
   "outputs": [],
   "source": [
    "gravity = bridge.Bridge(use_threading=False)\n",
    "gravity.add_system(star_dynamics, (dynamics,) )\n",
    "gravity.add_system(dynamics)\n",
    "gravity.timestep = 2|units.Myr # needs to be at least twice as large as the individual timesteps\n",
    "channel_stars = star_dynamics.particles.new_channel_to(star_dynamics.particles)\n",
    "channel_galaxies = dynamics.particles.new_channel_to(dynamics.particles)"
   ]
  },
  {
   "cell_type": "markdown",
   "metadata": {},
   "source": [
    "The loop that evolves the gravity code"
   ]
  },
  {
   "cell_type": "code",
   "execution_count": null,
   "metadata": {},
   "outputs": [
    {
     "name": "stderr",
     "output_type": "stream",
     "text": [
      "  1%|▏         | 14/1001 [02:53<2:50:24, 10.36s/it]"
     ]
    }
   ],
   "source": [
    "times = np.arange(0., 2001, 2) | units.Myr\n",
    "threshold = 10. |units.Myr \n",
    "for time in tqdm(range(len(times))):\n",
    "    dynamics.evolve_model(times[time])\n",
    "    if times[time] %threshold == 0|units.Myr:\n",
    "        channel_galaxies.copy()\n",
    "        plt.figure(figsize = (10,8))\n",
    "        plt.scatter(set1.x[:int(n_disk)].value_in(units.kpc), set1.y[:int(n_bulge)].value_in(units.kpc), s=0.3)\n",
    "        plt.scatter(set1.x[int(n_disk):int(n_disk+n_bulge)].value_in(units.kpc), set1.y[int(n_disk):int(n_bulge+n_disk)].value_in(units.kpc), s=0.3)\n",
    "        plt.scatter(set2.x[:int(n_disk)].value_in(units.kpc), set2.y[:int(n_bulge)].value_in(units.kpc), s=0.3)\n",
    "        plt.scatter(set2.x[int(n_disk):int(n_disk+n_bulge)].value_in(units.kpc), set2.y[int(n_disk):int(n_bulge+n_disk)].value_in(units.kpc), s=0.3)\n",
    "        plt.title(\"Disk + Bulge \\n time = \" +str(times[time]) )\n",
    "        #plt.legend()\n",
    "        plt.xlabel(\"x [kpc]\")\n",
    "        plt.ylabel(\"y [kpc]\")\n",
    "        plt.xlim(-500,500)\n",
    "        #plt.axis(\"equal\")\n",
    "        plt.ylim(-500,500)\n",
    "        plt.savefig(\"test_plots_xy/snap%04d.png\"%time)\n",
    "        #plt.show()\n",
    "        plt.close()\n",
    "        \n",
    "        plt.figure(figsize = (10,8))\n",
    "        plt.scatter(set1.x[:int(n_disk)].value_in(units.kpc), set1.z[:int(n_bulge)].value_in(units.kpc), s=0.3)\n",
    "        plt.scatter(set1.x[int(n_disk):int(n_disk+n_bulge)].value_in(units.kpc), set1.z[int(n_disk):int(n_bulge+n_disk)].value_in(units.kpc), s=0.3)\n",
    "        plt.scatter(set2.x[:int(n_disk)].value_in(units.kpc), set2.z[:int(n_bulge)].value_in(units.kpc), s=0.3)\n",
    "        plt.scatter(set2.x[int(n_disk):int(n_disk+n_bulge)].value_in(units.kpc), set2.z[int(n_disk):int(n_bulge+n_disk)].value_in(units.kpc), s=0.3)\n",
    "        plt.title(\"Disk + Bulge \\n time = \" +str(times[time]) )\n",
    "        #plt.legend()\n",
    "        plt.xlabel(\"x [kpc]\")\n",
    "        plt.ylabel(\"z [kpc]\")\n",
    "        plt.xlim(-500,500)\n",
    "        #plt.axis(\"equal\")\n",
    "        plt.ylim(-500,500)\n",
    "        plt.savefig(\"test_plots_xz/snap%04d.png\"%time)\n",
    "        #plt.show()\n",
    "        plt.close()\n",
    "        \n",
    "        channel_stars.copy()\n",
    "        plt.figure(figsize = (10,8))\n",
    "        plt.scatter(star_set_1.x[:int(n_disk_test)].value_in(units.kpc), star_set_1.y[:int(n_bulge_test)].value_in(units.kpc), s=0.3)\n",
    "        plt.scatter(star_set_1.x[int(n_disk_test):int(n_disk_test+n_bulge_test)].value_in(units.kpc), star_set_1.y[int(n_disk_test):int(n_bulge+n_disk)].value_in(units.kpc), s=0.3)\n",
    "        plt.scatter(star_set_2.x[:int(n_disk_test)].value_in(units.kpc), star_set_2.y[:int(n_bulge_test)].value_in(units.kpc), s=0.3)\n",
    "        plt.scatter(star_set_2.x[int(n_disk_test):int(n_disk_test+n_bulge_test)].value_in(units.kpc), star_set_2.y[int(n_disk_test):int(n_bulge+n_disk)].value_in(units.kpc), s=0.3)\n",
    "        plt.title(\"Disk + Bulge \\n time = \" +str(times[time]) )\n",
    "        #plt.legend()\n",
    "        plt.xlabel(\"x [kpc]\")\n",
    "        plt.ylabel(\"y [kpc]\")\n",
    "        plt.xlim(-500,500)\n",
    "        #plt.axis(\"equal\")\n",
    "        plt.ylim(-500,500)\n",
    "        plt.savefig(\"test_plots_stars_xy/snap%04d.png\"%time)\n",
    "        #plt.show()\n",
    "        plt.close()\n",
    "        \n",
    "        plt.figure(figsize = (10,8))\n",
    "        plt.scatter(star_set_1.x[:int(n_disk_test)].value_in(units.kpc), star_set_1.z[:int(n_bulge_test)].value_in(units.kpc), s=0.3)\n",
    "        plt.scatter(star_set_1.x[int(n_disk_test):int(n_disk_test+n_bulge_test)].value_in(units.kpc), star_set_1.z[int(n_disk_test):int(n_bulge+n_disk)].value_in(units.kpc), s=0.3)\n",
    "        plt.scatter(star_set_2.x[:int(n_disk_test)].value_in(units.kpc), star_set_2.z[:int(n_bulge_test)].value_in(units.kpc), s=0.3)\n",
    "        plt.scatter(star_set_2.x[int(n_disk_test):int(n_disk_test+n_bulge_test)].value_in(units.kpc), star_set_2.z[int(n_disk_test):int(n_bulge+n_disk)].value_in(units.kpc), s=0.3)\n",
    "        plt.title(\"Disk + Bulge \\n time = \" +str(times[time]) )\n",
    "        #plt.legend()\n",
    "        plt.xlabel(\"x [kpc]\")\n",
    "        plt.ylabel(\"z [kpc]\")\n",
    "        plt.xlim(-500,500)\n",
    "        #plt.axis(\"equal\")\n",
    "        plt.ylim(-500,500)\n",
    "        plt.savefig(\"test_plots_stars_xz/snap%04d.png\"%time)\n",
    "        #plt.show()\n",
    "        plt.close()\n",
    "        \n",
    "        file = open(\"time.txt\",\"w\")\n",
    "        file.write(str(times[time]))\n",
    "        file.write(\"\\n\")\n",
    "        #put the last data in fits files\n",
    "        col1 = fits.Column(name='star_1_x', format='E', array=np.array(star_set_1.x.value_in(units.m)))\n",
    "        col2 = fits.Column(name='star_1_y', format='E', array=np.array(star_set_1.y.value_in(units.m)))\n",
    "        col3 = fits.Column(name='star_1_z', format='E', array=np.array(star_set_1.z.value_in(units.m)))\n",
    "        col4 = fits.Column(name='star_1_vx', format='E', array=np.array(star_set_1.vx.value_in(units.kms)))\n",
    "        col5 = fits.Column(name='star_1_vy', format='E', array=np.array(star_set_1.vy.value_in(units.kms)))\n",
    "        col6 = fits.Column(name='star_1_vz', format='E', array=np.array(star_set_1.vz.value_in(units.kms)))\n",
    "\n",
    "        col11 = fits.Column(name='star_2_x', format='E', array=np.array(star_set_2.x.value_in(units.m)))\n",
    "        col12 = fits.Column(name='star_2_y', format='E', array=np.array(star_set_2.y.value_in(units.m)))\n",
    "        col13 = fits.Column(name='star_2_z', format='E', array=np.array(star_set_2.z.value_in(units.m)))\n",
    "        col14 = fits.Column(name='star_2_vx', format='E', array=np.array(star_set_2.vx.value_in(units.kms)))\n",
    "        col15 = fits.Column(name='star_2_vy', format='E', array=np.array(star_set_2.vy.value_in(units.kms)))\n",
    "        col16 = fits.Column(name='star_2_vz', format='E', array=np.array(star_set_2.vz.value_in(units.kms)))\n",
    "        \n",
    "        col21 = fits.Column(name='set_1_x', format='E', array=np.array(set1.x.value_in(units.m)))\n",
    "        col22 = fits.Column(name='set_1_y', format='E', array=np.array(set1.y.value_in(units.m)))\n",
    "        col23 = fits.Column(name='set_1_z', format='E', array=np.array(set1.z.value_in(units.m)))\n",
    "        col24 = fits.Column(name='set_1_vx', format='E', array=np.array(set1.vx.value_in(units.kms)))\n",
    "        col25 = fits.Column(name='set_1_vy', format='E', array=np.array(set1.vy.value_in(units.kms)))\n",
    "        col26 = fits.Column(name='set_1_vz', format='E', array=np.array(set1.vz.value_in(units.kms)))\n",
    "\n",
    "        \n",
    "        col31 = fits.Column(name='set_2_x', format='E', array=np.array(set2.x.value_in(units.m)))\n",
    "        col32 = fits.Column(name='set_2_y', format='E', array=np.array(set2.y.value_in(units.m)))\n",
    "        col33 = fits.Column(name='set_2_z', format='E', array=np.array(set2.z.value_in(units.m)))\n",
    "        col34 = fits.Column(name='set_2_vx', format='E', array=np.array(set2.vx.value_in(units.kms)))\n",
    "        col35 = fits.Column(name='set_2_vy', format='E', array=np.array(set2.vy.value_in(units.kms)))\n",
    "        col36 = fits.Column(name='set_2_vz', format='E', array=np.array(set2.vz.value_in(units.kms)))\n",
    "\n",
    "        cols = fits.ColDefs([col1,col2,col3,col4,col5,col6,col11,col12,col13,col14,col15,col16,col21,col22,col23,col24,col25,col26,col31,col32,col33,col34,col35,col36])\n",
    "        hdu = fits.BinTableHDU.from_columns(cols)\n",
    "        hdu.writeto('data_large_set.fits',overwrite =True)\n",
    "        file.write(str(times[time]))\n",
    "        file.close()\n",
    "\n",
    "gravity.stop()"
   ]
  },
  {
   "cell_type": "code",
   "execution_count": null,
   "metadata": {},
   "outputs": [],
   "source": []
  }
 ],
 "metadata": {
  "kernelspec": {
   "display_name": "Python 3",
   "language": "python",
   "name": "python3"
  },
  "language_info": {
   "codemirror_mode": {
    "name": "ipython",
    "version": 3
   },
   "file_extension": ".py",
   "mimetype": "text/x-python",
   "name": "python",
   "nbconvert_exporter": "python",
   "pygments_lexer": "ipython3",
   "version": "3.8.5"
  }
 },
 "nbformat": 4,
 "nbformat_minor": 4
}
