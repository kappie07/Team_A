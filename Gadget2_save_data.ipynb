{
 "cells": [
  {
   "cell_type": "code",
   "execution_count": 1,
   "metadata": {},
   "outputs": [],
   "source": [
    "from amuse.units import units\n",
    "from amuse.lab import Huayno, nbody_system, new_galactics_model\n",
    "from amuse.lab import Gadget2\n",
    "from amuse.community.ph4.interface import ph4\n",
    "import copy\n",
    "import numpy as np\n",
    "import matplotlib.pyplot as plt\n",
    "from tqdm import tqdm\n",
    "from amuse.couple import bridge\n",
    "from amuse.community.hermite.interface import Hermite\n",
    "from astropy.io import fits"
   ]
  },
  {
   "cell_type": "code",
   "execution_count": 2,
   "metadata": {},
   "outputs": [
    {
     "name": "stdout",
     "output_type": "stream",
     "text": [
      "Warning: do_scale for a large galactics model may be very slow\n",
      "CPU times: user 5min 37s, sys: 8.43 s, total: 5min 45s\n",
      "Wall time: 5min 51s\n"
     ]
    }
   ],
   "source": [
    "%%time\n",
    "\n",
    "# Milky Way := Mdisk = 4.5 Mbulge | Mhalo = 100 Mbulge\n",
    "# Andromeda := Mdisk = 4-7 Mbulge | Mhalo = 87 Mbulge\n",
    "# Mdisk = 5 Mbulge, Mhalo = 95 Mbulge\n",
    "\n",
    "n_halo  = 100000\n",
    "n_bulge = 50000\n",
    "n_disk  = 50000\n",
    "M_galaxy = 1e12 | units.MSun\n",
    "R_galaxy = 80  | units.kpc\n",
    "converter = nbody_system.nbody_to_si(M_galaxy, R_galaxy)\n",
    "\n",
    "galaxy1 = new_galactics_model(n_halo,\n",
    "                                converter,\n",
    "                                do_scale=True,\n",
    "                                bulge_number_of_particles=n_bulge,\n",
    "                                disk_number_of_particles=n_disk)\n",
    "# Order of particles: Disk => Bulge => Halo"
   ]
  },
  {
   "cell_type": "code",
   "execution_count": 7,
   "metadata": {},
   "outputs": [
    {
     "data": {
      "text/plain": [
       "(quantity<8.60749885164e+35 kg>,\n",
       " quantity<4.73984840647e+35 kg>,\n",
       " quantity<1.92218326371e+37 kg>)"
      ]
     },
     "execution_count": 7,
     "metadata": {},
     "output_type": "execute_result"
    }
   ],
   "source": [
    "galaxy1[0].mass, galaxy1[n_bulge].mass, galaxy1[n_halo].mass"
   ]
  },
  {
   "cell_type": "code",
   "execution_count": null,
   "metadata": {},
   "outputs": [],
   "source": [
    "%%time\n",
    "M_galaxy_2 = 1e12 | units.MSun\n",
    "R_galaxy_2 = 80  | units.kpc\n",
    "converter_2 = nbody_system.nbody_to_si(M_galaxy_2, R_galaxy_2)\n",
    "galaxy2 = new_galactics_model(n_halo,\n",
    "                                converter_2,\n",
    "                                do_scale=True,\n",
    "                                bulge_number_of_particles=n_bulge,\n",
    "                                disk_number_of_particles=n_disk)"
   ]
  },
  {
   "cell_type": "code",
   "execution_count": null,
   "metadata": {},
   "outputs": [],
   "source": [
    "converter = nbody_system.nbody_to_si(1.e12|units.MSun, 100|units.kpc)\n",
    "dynamics = Gadget2(converter, number_of_workers=2)"
   ]
  },
  {
   "cell_type": "code",
   "execution_count": null,
   "metadata": {},
   "outputs": [],
   "source": [
    "%%time\n",
    "galaxy1.rotate(0., np.pi/2, 0.)\n",
    "galaxy2.x  += 400 | units.kpc\n",
    "galaxy2.vx += -100 |units.kms\n",
    "galaxy2.vy += +40 |units.kms\n",
    "\n",
    "dynamics.parameters.epsilon_squared = (100|units.parsec)**2\n",
    "set1 = dynamics.particles.add_particles(galaxy1)\n",
    "set2 = dynamics.particles.add_particles(galaxy2)\n",
    "#dynamics.particles.move_to_center()"
   ]
  },
  {
   "cell_type": "code",
   "execution_count": null,
   "metadata": {
    "scrolled": false
   },
   "outputs": [],
   "source": [
    "channel = dynamics.particles.new_channel_to(dynamics.particles)\n",
    "\n",
    "times = np.arange(0, 3501, 1) | units.Myr\n",
    "threshold = 10 |units.Myr \n",
    "\n",
    "for time in tqdm(range(0, len(times))):\n",
    "    dynamics.evolve_model(times[time])\n",
    "    channel.copy()\n",
    "    if times[time] %threshold == 0|units.Myr:\n",
    "        plt.figure(figsize = (10,8))\n",
    "        plt.scatter(set1.x[:int(n_disk)].value_in(units.kpc), set1.y[:int(n_bulge)].value_in(units.kpc), s=0.3)\n",
    "        plt.scatter(set1.x[int(n_disk):int(n_disk+n_bulge)].value_in(units.kpc), set1.y[int(n_disk):int(n_bulge+n_disk)].value_in(units.kpc), s=0.3)\n",
    "        plt.scatter(set2.x[:int(n_disk)].value_in(units.kpc), set2.y[:int(n_bulge)].value_in(units.kpc), s=0.3)\n",
    "        plt.scatter(set2.x[int(n_disk):int(n_disk+n_bulge)].value_in(units.kpc), set2.y[int(n_disk):int(n_bulge+n_disk)].value_in(units.kpc), s=0.3)\n",
    "        plt.title(\"Disk + Bulge \\n time = \" +str(times[time]) )\n",
    "        #plt.legend()\n",
    "        plt.xlabel(\"x [kpc]\")\n",
    "        plt.ylabel(\"y [kpc]\")\n",
    "        plt.xlim(-1000,500)\n",
    "        #plt.axis(\"equal\")\n",
    "        plt.ylim(-500,500)\n",
    "        plt.savefig(\"Tidal_Wave/Large/xy/snap%04d.png\"%time)\n",
    "        #plt.show()\n",
    "        plt.close()\n",
    "        \n",
    "        plt.figure(figsize = (10,8))\n",
    "        plt.scatter(set1.x[:int(n_disk)].value_in(units.kpc), set1.z[:int(n_bulge)].value_in(units.kpc), s=0.3)\n",
    "        plt.scatter(set1.x[int(n_disk):int(n_disk+n_bulge)].value_in(units.kpc), set1.z[int(n_disk):int(n_bulge+n_disk)].value_in(units.kpc), s=0.3)\n",
    "        plt.scatter(set2.x[:int(n_disk)].value_in(units.kpc), set2.z[:int(n_bulge)].value_in(units.kpc), s=0.3)\n",
    "        plt.scatter(set2.x[int(n_disk):int(n_disk+n_bulge)].value_in(units.kpc), set2.z[int(n_disk):int(n_bulge+n_disk)].value_in(units.kpc), s=0.3)\n",
    "        plt.title(\"Disk + Bulge \\n time = \" +str(times[time]) )\n",
    "        #plt.legend()\n",
    "        plt.xlabel(\"x [kpc]\")\n",
    "        plt.ylabel(\"z [kpc]\")\n",
    "        plt.xlim(-1000,500)\n",
    "        #plt.axis(\"equal\")\n",
    "        plt.ylim(-500,500)\n",
    "        plt.savefig(\"Tidal_Wave/Large/xz/snap%04d.png\"%time)\n",
    "        #plt.show()\n",
    "        plt.close()\n",
    "        \n",
    "        plt.figure(figsize = (10,8))\n",
    "        plt.scatter(set1.y[:int(n_disk)].value_in(units.kpc), set1.z[:int(n_bulge)].value_in(units.kpc), s=0.3)\n",
    "        plt.scatter(set1.y[int(n_disk):int(n_disk+n_bulge)].value_in(units.kpc), set1.z[int(n_disk):int(n_bulge+n_disk)].value_in(units.kpc), s=0.3)\n",
    "        plt.scatter(set2.y[:int(n_disk)].value_in(units.kpc), set2.z[:int(n_bulge)].value_in(units.kpc), s=0.3)\n",
    "        plt.scatter(set2.y[int(n_disk):int(n_disk+n_bulge)].value_in(units.kpc), set2.z[int(n_disk):int(n_bulge+n_disk)].value_in(units.kpc), s=0.3)\n",
    "        plt.title(\"Disk + Bulge \\n time = \" +str(times[time]) )\n",
    "        #plt.legend()\n",
    "        plt.xlabel(\"y [kpc]\")\n",
    "        plt.ylabel(\"z [kpc]\")\n",
    "        plt.xlim(-500,500)\n",
    "        #plt.axis(\"equal\")\n",
    "        plt.ylim(-500,500)\n",
    "        plt.savefig(\"Tidal_Wave/Large/yz/snap%04d.png\"%time)\n",
    "        #plt.show()\n",
    "        plt.close()\n",
    "        \n",
    "        col21 = fits.Column(name='set_1_x', format='E', array=np.array(set1.x.value_in(units.m)))\n",
    "        col22 = fits.Column(name='set_1_y', format='E', array=np.array(set1.y.value_in(units.m)))\n",
    "        col23 = fits.Column(name='set_1_z', format='E', array=np.array(set1.z.value_in(units.m)))\n",
    "        col24 = fits.Column(name='set_1_vx', format='E', array=np.array(set1.vx.value_in(units.kms)))\n",
    "        col25 = fits.Column(name='set_1_vy', format='E', array=np.array(set1.vy.value_in(units.kms)))\n",
    "        col26 = fits.Column(name='set_1_vz', format='E', array=np.array(set1.vz.value_in(units.kms)))\n",
    "\n",
    "        \n",
    "        col31 = fits.Column(name='set_2_x', format='E', array=np.array(set2.x.value_in(units.m)))\n",
    "        col32 = fits.Column(name='set_2_y', format='E', array=np.array(set2.y.value_in(units.m)))\n",
    "        col33 = fits.Column(name='set_2_z', format='E', array=np.array(set2.z.value_in(units.m)))\n",
    "        col34 = fits.Column(name='set_2_vx', format='E', array=np.array(set2.vx.value_in(units.kms)))\n",
    "        col35 = fits.Column(name='set_2_vy', format='E', array=np.array(set2.vy.value_in(units.kms)))\n",
    "        col36 = fits.Column(name='set_2_vz', format='E', array=np.array(set2.vz.value_in(units.kms)))\n",
    "\n",
    "        cols = fits.ColDefs([col21,col22,col23,col24,col25,col26,col31,col32,col33,col34,col35,col36])\n",
    "        hdu = fits.BinTableHDU.from_columns(cols)\n",
    "        name = \"Tidal_Wave/Large/Data/Gadget2_save_data_%04d.fits\"%time\n",
    "        hdu.writeto(name,overwrite =True)\n",
    "        \n",
    "        \n",
    "        \n",
    "        \n",
    "dynamics.stop()"
   ]
  },
  {
   "cell_type": "code",
   "execution_count": null,
   "metadata": {},
   "outputs": [],
   "source": []
  }
 ],
 "metadata": {
  "kernelspec": {
   "display_name": "Python 3",
   "language": "python",
   "name": "python3"
  },
  "language_info": {
   "codemirror_mode": {
    "name": "ipython",
    "version": 3
   },
   "file_extension": ".py",
   "mimetype": "text/x-python",
   "name": "python",
   "nbconvert_exporter": "python",
   "pygments_lexer": "ipython3",
   "version": "3.8.5"
  }
 },
 "nbformat": 4,
 "nbformat_minor": 4
}
