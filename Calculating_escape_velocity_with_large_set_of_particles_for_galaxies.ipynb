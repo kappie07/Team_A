{
 "cells": [
  {
   "cell_type": "code",
   "execution_count": 1,
   "metadata": {},
   "outputs": [],
   "source": [
    "from amuse.units import units\n",
    "from amuse.lab import Huayno, nbody_system, new_galactics_model\n",
    "from amuse.lab import Gadget2\n",
    "from amuse.community.ph4.interface import ph4\n",
    "import copy\n",
    "import numpy as np\n",
    "import matplotlib.pyplot as plt\n",
    "from tqdm import tqdm\n",
    "from amuse.couple import bridge\n",
    "from amuse.community.hermite.interface import Hermite\n",
    "from amuse.community.bhtree.interface import BHTree\n",
    "from astropy.io import fits"
   ]
  },
  {
   "cell_type": "code",
   "execution_count": 2,
   "metadata": {},
   "outputs": [
    {
     "name": "stdout",
     "output_type": "stream",
     "text": [
      "Warning: do_scale for a large galactics model may be very slow\n",
      "CPU times: user 13.2 s, sys: 2.37 s, total: 15.6 s\n",
      "Wall time: 17.8 s\n"
     ]
    }
   ],
   "source": [
    "%%time\n",
    "\n",
    "# Milky Way := Mdisk = 4.5 Mbulge | Mhalo = 100 Mbulge\n",
    "# Andromeda := Mdisk = 4-7 Mbulge | Mhalo = 87 Mbulge\n",
    "# Mdisk = 5 Mbulge, Mhalo = 95 Mbulge\n",
    "\n",
    "n_halo  = 20000\n",
    "n_bulge = 10000\n",
    "n_disk  = 10000\n",
    "M_galaxy = 1e12 | units.MSun\n",
    "R_galaxy = 80  | units.kpc\n",
    "converter = nbody_system.nbody_to_si(M_galaxy, R_galaxy)\n",
    "\n",
    "galaxy1 = new_galactics_model(n_halo,\n",
    "                                converter,\n",
    "                                do_scale=True,\n",
    "                                bulge_number_of_particles=n_bulge,\n",
    "                                disk_number_of_particles=n_disk)\n",
    "galaxy1.move_to_center()\n",
    "# Order of particles: Disk => Bulge => Halo"
   ]
  },
  {
   "cell_type": "code",
   "execution_count": 3,
   "metadata": {},
   "outputs": [
    {
     "name": "stdout",
     "output_type": "stream",
     "text": [
      "Warning: do_scale for a large galactics model may be very slow\n",
      "CPU times: user 12.7 s, sys: 2.27 s, total: 15 s\n",
      "Wall time: 15 s\n"
     ]
    }
   ],
   "source": [
    "%%time\n",
    "M_galaxy_2 = 1e12 | units.MSun\n",
    "R_galaxy_2 = 80  | units.kpc\n",
    "converter_2 = nbody_system.nbody_to_si(M_galaxy_2, R_galaxy_2)\n",
    "galaxy2 = new_galactics_model(n_halo,\n",
    "                                converter_2,\n",
    "                                do_scale=True,\n",
    "                                bulge_number_of_particles=n_bulge,\n",
    "                                disk_number_of_particles=n_disk)\n",
    "galaxy2.move_to_center()"
   ]
  },
  {
   "cell_type": "code",
   "execution_count": 4,
   "metadata": {},
   "outputs": [
    {
     "name": "stdout",
     "output_type": "stream",
     "text": [
      "CPU times: user 13.6 ms, sys: 2.64 ms, total: 16.2 ms\n",
      "Wall time: 8.14 ms\n"
     ]
    }
   ],
   "source": [
    "%%time\n",
    "galaxy1.rotate(0., np.pi/2, 0.)\n",
    "galaxy2.x  += 400 | units.kpc\n",
    "galaxy2.vx += -500 |units.kms"
   ]
  },
  {
   "cell_type": "code",
   "execution_count": 5,
   "metadata": {},
   "outputs": [],
   "source": [
    "converter = nbody_system.nbody_to_si(1e12|units.MSun, 100|units.kpc)\n",
    "dynamics = BHTree(converter) # ph4 Does the trick, but is kinda slow\n",
    "dynamics.parameters.epsilon_squared = (100|units.parsec)**2\n",
    "dynamics.parameters.timestep = 1 |units.Myr\n",
    "set1 = dynamics.particles.add_particles(galaxy1)\n",
    "set2 = dynamics.particles.add_particles(galaxy2)"
   ]
  },
  {
   "cell_type": "code",
   "execution_count": 6,
   "metadata": {},
   "outputs": [
    {
     "name": "stdout",
     "output_type": "stream",
     "text": [
      "Warning: do_scale for a large galactics model may be very slow\n",
      "Warning: do_scale for a large galactics model may be very slow\n",
      "CPU times: user 26.1 s, sys: 4.75 s, total: 30.9 s\n",
      "Wall time: 31.7 s\n"
     ]
    }
   ],
   "source": [
    "%%time\n",
    "n_halo_test  = 20000\n",
    "n_disk_test  = 10000\n",
    "n_bulge_test = 10000\n",
    "\n",
    "test_particles_1 = new_galactics_model(n_halo_test,\n",
    "                                converter,\n",
    "                                do_scale=True,\n",
    "                                bulge_number_of_particles=n_bulge_test,\n",
    "                                disk_number_of_particles=n_disk_test)\n",
    "\n",
    "test_particles_2 = new_galactics_model(n_halo_test,\n",
    "                                converter_2,\n",
    "                                do_scale=True,\n",
    "                                bulge_number_of_particles=n_bulge_test,\n",
    "                                disk_number_of_particles=n_disk_test)\n",
    "test_particles_1.move_to_center()\n",
    "test_particles_2.move_to_center()"
   ]
  },
  {
   "cell_type": "code",
   "execution_count": 7,
   "metadata": {},
   "outputs": [],
   "source": [
    "#set the mass of the test particles to 0\n",
    "test_particles_1.mass = 0 |units.kg\n",
    "test_particles_2.mass = 0 |units.kg\n",
    "\n",
    "#we're only interested in the particles from the stars, and not the halo.\n",
    "test_particles_1_stars = test_particles_1[:int(n_bulge_test+n_disk_test)]\n",
    "test_particles_2_stars = test_particles_2[:int(n_bulge_test+n_disk_test)]\n",
    "\n",
    "#rotate and translate in the same way as the galaxies\n",
    "test_particles_1_stars.rotate(0., np.pi/2, 0.)\n",
    "test_particles_2_stars.x  += 400 | units.kpc\n",
    "test_particles_2_stars.vx += -500 |units.kms\n",
    "\n",
    "star_dynamics = BHTree(converter)\n",
    "star_set_1 = star_dynamics.particles.add_particles(test_particles_1_stars)\n",
    "star_set_2 = star_dynamics.particles.add_particles(test_particles_2_stars)\n",
    "star_dynamics.parameters.timestep = 1|units.Myr"
   ]
  },
  {
   "cell_type": "code",
   "execution_count": 8,
   "metadata": {},
   "outputs": [],
   "source": [
    "gravity = bridge.Bridge(use_threading=False)\n",
    "#gravity.add_system(star_dynamics, (dynamics,) )\n",
    "gravity.add_system(dynamics)\n",
    "channel = star_dynamics.particles.new_channel_to(star_dynamics.particles)"
   ]
  },
  {
   "cell_type": "code",
   "execution_count": null,
   "metadata": {
    "scrolled": false
   },
   "outputs": [
    {
     "name": "stderr",
     "output_type": "stream",
     "text": [
      " 96%|█████████▌| 6705/7000 [40:05:20<3:21:17, 40.94s/it] "
     ]
    }
   ],
   "source": [
    "gravity.timestep = 1|units.Myr\n",
    "threshold = 20. |units.Myr \n",
    "\n",
    "times = np.arange(0., 7000, 1) | units.Myr\n",
    "for time in tqdm(range(len(times))):\n",
    "    gravity.evolve_model(times[time])\n",
    "    if times[time] %threshold == 0|units.Myr:\n",
    "        channel.copy()\n",
    "        #x1 = set1.x[:20000].value_in(units.kpc)\n",
    "        #y1 = set1.y[:20000].value_in(units.kpc)\n",
    "        #z1 = set1.z[:20000].value_in(units.kpc)\n",
    "        #x2 = set2.x[:20000].value_in(units.kpc)\n",
    "        #y2 = set2.y[:20000].value_in(units.kpc)\n",
    "        #z2 = set2.z[:20000].value_in(units.kpc)\n",
    "\n",
    "\n",
    "\n",
    "        #fig = plt.figure(figsize = (10,8))\n",
    "        #ax = Axes3D(fig)\n",
    "        #ax.scatter(x1,y1,z1, s = 0.5)\n",
    "        #ax.scatter(x2,y2,z2, s = 0.5)\n",
    "\n",
    "        #ax.set_xlabel(\"x\")\n",
    "        #ax.set_ylabel(\"y\")\n",
    "        #ax.set_zlabel(\"z\")\n",
    "        #plt.show()\n",
    "        \n",
    "        #saving the orbit of the stars with mass\n",
    "        plt.figure(figsize = (10,8))\n",
    "        plt.scatter(set1.x[:int(n_bulge+n_disk)].value_in(units.kpc), set1.y[:int(n_bulge+n_disk)].value_in(units.kpc), s=0.3,label = 'Big galaxy')\n",
    "        plt.scatter(set2.x[:int(n_bulge+n_disk)].value_in(units.kpc), set2.y[:int(n_bulge+n_disk)].value_in(units.kpc), s=0.3,label = 'Small galaxy')\n",
    "        plt.title(\"Disk + Bulge \\n time = \" +str(times[time]) )\n",
    "        plt.legend()\n",
    "        plt.xlabel(\"x [kpc]\")\n",
    "        plt.ylabel(\"y [kpc]\")\n",
    "        plt.xlim(-500,500)\n",
    "        #plt.axis(\"equal\")\n",
    "        plt.ylim(-500,500)\n",
    "        plt.savefig('./plots_2/merge_plots/snapshots_xy/snap%04d.png'%time)\n",
    "        #plt.show()\n",
    "        plt.close()\n",
    "                \n",
    "        plt.figure(figsize = (10,8))\n",
    "        plt.scatter(set1.x[:int(n_bulge+n_disk)].value_in(units.kpc), set1.z[:int(n_bulge+n_disk)].value_in(units.kpc), s=0.3,label = 'Big galaxy')\n",
    "        plt.scatter(set2.x[:int(n_bulge+n_disk)].value_in(units.kpc), set2.z[:int(n_bulge+n_disk)].value_in(units.kpc), s=0.3,label = 'Small galaxy')\n",
    "        plt.title(\"Disk + Bulge \\n time = \" +str(times[time]) )\n",
    "        plt.legend()\n",
    "        plt.xlabel(\"x [kpc]\")\n",
    "        plt.ylabel(\"y [kpc]\")\n",
    "        plt.xlim(-500,500)\n",
    "        #plt.axis(\"equal\")\n",
    "        plt.ylim(-500,500)\n",
    "        plt.savefig('./plots_2/merge_plots/snapshots_xz/snap%04d.png'%time)\n",
    "        #plt.show()\n",
    "        plt.close()\n",
    "        \n",
    "        #saving the orbit of the massless tracers\n",
    "        plt.figure(figsize = (10,8))\n",
    "        plt.scatter(star_set_1.x[:int(n_disk_test)].value_in(units.kpc), star_set_1.y[:int(n_disk_test)].value_in(units.kpc), s=1,label = 'Big galaxy (disk)',color = 'b')\n",
    "        plt.scatter(star_set_2.x[:int(n_disk_test)].value_in(units.kpc), star_set_2.y[:int(n_disk_test)].value_in(units.kpc), s=1,label = 'Small galaxy (disk)', color ='k')\n",
    "        plt.scatter(star_set_1.x[int(n_disk_test):int(n_bulge_test+n_disk_test)].value_in(units.kpc), star_set_1.y[int(n_disk_test):int(n_bulge_test+n_disk_test)].value_in(units.kpc), s=1,label = 'Big galaxy (bulge)',color = 'r')\n",
    "        plt.scatter(star_set_2.x[int(n_disk_test):int(n_bulge_test+n_disk_test)].value_in(units.kpc), star_set_2.y[int(n_disk_test):int(n_bulge_test+n_disk_test)].value_in(units.kpc), s=1,label = 'Small galaxy bulge',color = 'magenta')\n",
    "        plt.title(\"Disk + Bulge for test particles \\n time = \" +str(times[time]) )\n",
    "        plt.legend()\n",
    "        plt.xlabel(\"x [kpc]\")\n",
    "        plt.ylabel(\"y [kpc]\")\n",
    "        plt.xlim(-500,500)\n",
    "        #plt.axis(\"equal\")\n",
    "        plt.ylim(-500,500)\n",
    "        plt.savefig('./plots_2/star_plots/snapshots_xy/snap%04d.png'%time)\n",
    "        plt.close()\n",
    "                \n",
    "            \n",
    "        plt.figure(figsize = (10,8))\n",
    "        plt.scatter(star_set_1.x[:int(n_disk_test)].value_in(units.kpc), star_set_1.z[:int(n_disk_test)].value_in(units.kpc), s=1,label = 'Big galaxy (disk)',color = 'b')\n",
    "        plt.scatter(star_set_2.x[:int(n_disk_test)].value_in(units.kpc), star_set_2.z[:int(n_disk_test)].value_in(units.kpc), s=1,label = 'Small galaxy (disk)', color ='k')\n",
    "        plt.scatter(star_set_1.x[int(n_disk_test):int(n_bulge_test+n_disk_test)].value_in(units.kpc), star_set_1.z[int(n_disk_test):int(n_bulge_test+n_disk_test)].value_in(units.kpc), s=1,label = 'Big galaxy (bulge)',color = 'r')\n",
    "        plt.scatter(star_set_2.x[int(n_disk_test):int(n_bulge_test+n_disk_test)].value_in(units.kpc), star_set_2.z[int(n_disk_test):int(n_bulge_test+n_disk_test)].value_in(units.kpc), s=1,label = 'Small galaxy bulge',color = 'magenta')\n",
    "        plt.title(\"Disk + Bulge for test particles \\n time = \" +str(times[time]) )\n",
    "        plt.legend()\n",
    "        plt.xlabel(\"x [kpc]\")\n",
    "        plt.ylabel(\"y [kpc]\")\n",
    "        plt.xlim(-500,500)\n",
    "        #plt.axis(\"equal\")\n",
    "        plt.ylim(-500,500)\n",
    "        plt.savefig('./plots_2/star_plots/snapshots_xz/snap%04d.png'%time)\n",
    "        plt.close()\n",
    "        \n",
    "        file = open(\"time.txt\",\"w\")\n",
    "        file.write(str(times[time]))\n",
    "        file.write(\"\\n\")\n",
    "        #put the last data in fits files\n",
    "        col1 = fits.Column(name='star_1_x', format='E', array=np.array(star_set_1.x.value_in(units.m)))\n",
    "        col2 = fits.Column(name='star_1_y', format='E', array=np.array(star_set_1.y.value_in(units.m)))\n",
    "        col3 = fits.Column(name='star_1_z', format='E', array=np.array(star_set_1.z.value_in(units.m)))\n",
    "        col4 = fits.Column(name='star_1_vx', format='E', array=np.array(star_set_1.vx.value_in(units.kms)))\n",
    "        col5 = fits.Column(name='star_1_vy', format='E', array=np.array(star_set_1.vy.value_in(units.kms)))\n",
    "        col6 = fits.Column(name='star_1_vz', format='E', array=np.array(star_set_1.vz.value_in(units.kms)))\n",
    "\n",
    "        col11 = fits.Column(name='star_2_x', format='E', array=np.array(star_set_2.x.value_in(units.m)))\n",
    "        col12 = fits.Column(name='star_2_y', format='E', array=np.array(star_set_2.y.value_in(units.m)))\n",
    "        col13 = fits.Column(name='star_2_z', format='E', array=np.array(star_set_2.z.value_in(units.m)))\n",
    "        col14 = fits.Column(name='star_2_vx', format='E', array=np.array(star_set_2.vx.value_in(units.kms)))\n",
    "        col15 = fits.Column(name='star_2_vy', format='E', array=np.array(star_set_2.vy.value_in(units.kms)))\n",
    "        col16 = fits.Column(name='star_2_vz', format='E', array=np.array(star_set_2.vz.value_in(units.kms)))\n",
    "        \n",
    "        col21 = fits.Column(name='set_1_x', format='E', array=np.array(set1.x.value_in(units.m)))\n",
    "        col22 = fits.Column(name='set_1_y', format='E', array=np.array(set1.y.value_in(units.m)))\n",
    "        col23 = fits.Column(name='set_1_z', format='E', array=np.array(set1.z.value_in(units.m)))\n",
    "        col24 = fits.Column(name='set_1_vx', format='E', array=np.array(set1.vx.value_in(units.kms)))\n",
    "        col25 = fits.Column(name='set_1_vy', format='E', array=np.array(set1.vy.value_in(units.kms)))\n",
    "        col26 = fits.Column(name='set_1_vz', format='E', array=np.array(set1.vz.value_in(units.kms)))\n",
    "\n",
    "        \n",
    "        col31 = fits.Column(name='set_2_x', format='E', array=np.array(set2.x.value_in(units.m)))\n",
    "        col32 = fits.Column(name='set_2_y', format='E', array=np.array(set2.y.value_in(units.m)))\n",
    "        col33 = fits.Column(name='set_2_z', format='E', array=np.array(set2.z.value_in(units.m)))\n",
    "        col34 = fits.Column(name='set_2_vx', format='E', array=np.array(set2.vx.value_in(units.kms)))\n",
    "        col35 = fits.Column(name='set_2_vy', format='E', array=np.array(set2.vy.value_in(units.kms)))\n",
    "        col36 = fits.Column(name='set_2_vz', format='E', array=np.array(set2.vz.value_in(units.kms)))\n",
    "\n",
    "        cols = fits.ColDefs([col1,col2,col3,col4,col5,col6,col11,col12,col13,col14,col15,col16,col21,col22,col23,col24,col25,col26,col31,col32,col33,col34,col35,col36])\n",
    "        hdu = fits.BinTableHDU.from_columns(cols)\n",
    "        hdu.writeto('data.fits',overwrite =True)\n",
    "        file.write(str(times[time]))\n",
    "        file.close()\n",
    "        \n",
    "        \n",
    "gravity.stop()"
   ]
  },
  {
   "cell_type": "code",
   "execution_count": null,
   "metadata": {},
   "outputs": [],
   "source": [
    "file = fits.open(\"data.fits\")\n",
    "a = file[1].data"
   ]
  },
  {
   "cell_type": "code",
   "execution_count": null,
   "metadata": {},
   "outputs": [],
   "source": [
    "x = a.field(\"star_1_x\")\n",
    "print(x[:n_disk_test+n_bulge_test])\n",
    "#test_particles_1.x = x|units.m"
   ]
  },
  {
   "cell_type": "code",
   "execution_count": null,
   "metadata": {},
   "outputs": [],
   "source": [
    "b = open(\"time.txt\")\n",
    "c = b.read()\n",
    "print(c)"
   ]
  },
  {
   "cell_type": "code",
   "execution_count": null,
   "metadata": {},
   "outputs": [],
   "source": [
    "a.field(\"set_1_x\")"
   ]
  },
  {
   "cell_type": "code",
   "execution_count": null,
   "metadata": {},
   "outputs": [],
   "source": [
    "galaxies_x = np.array(np.append(a.field(\"set_1_x\"),a.field(\"set_2_x\")),dtype = \"float64\")#/3.086e19\n",
    "galaxies_y = np.array(np.append(a.field(\"set_1_y\"),a.field(\"set_2_y\")),dtype = \"float64\")#/3.086e19\n",
    "galaxies_z = np.array(np.append(a.field(\"set_1_z\"),a.field(\"set_2_z\")),dtype = \"float64\")#/3.086e19\n",
    "print(np.mean(galaxies_x)/3.086e19)\n",
    "print(np.mean(galaxies_y)/3.086e19)\n",
    "print(np.mean(galaxies_z)/3.086e19)"
   ]
  },
  {
   "cell_type": "code",
   "execution_count": null,
   "metadata": {},
   "outputs": [],
   "source": [
    "galaxies_vx = np.array(np.append(a.field(\"set_1_vx\"),a.field(\"set_2_vx\")),dtype = \"float64\")\n",
    "galaxies_vy = np.array(np.append(a.field(\"set_1_vy\"),a.field(\"set_2_vy\")),dtype = \"float64\")\n",
    "galaxies_vz = np.array(np.append(a.field(\"set_1_vz\"),a.field(\"set_2_vz\")),dtype = \"float64\")\n",
    "print(np.mean(galaxies_vx))\n",
    "print(np.mean(galaxies_vy))\n",
    "print(np.mean(galaxies_vz))"
   ]
  },
  {
   "cell_type": "code",
   "execution_count": null,
   "metadata": {},
   "outputs": [],
   "source": [
    "stars_x = np.array(np.append(a.field(\"star_1_x\")[:n_bulge+n_disk],a.field(\"star_2_x\")[:n_bulge+n_disk]),dtype=\"float64\")#/3.086e19\n",
    "stars_y = np.array(np.append(a.field(\"star_1_y\")[:n_bulge+n_disk],a.field(\"star_2_y\")[:n_bulge+n_disk]),dtype=\"float64\")#/3.086e19\n",
    "stars_z = np.array(np.append(a.field(\"star_1_z\")[:n_bulge+n_disk],a.field(\"star_2_z\")[:n_bulge+n_disk]),dtype=\"float64\")#/3.086e19\n",
    "stars_vx = np.array(np.append(a.field(\"star_1_vx\")[:n_bulge+n_disk],a.field(\"star_2_vx\")[:n_bulge+n_disk]),dtype = \"float64\")\n",
    "stars_vy = np.array(np.append(a.field(\"star_1_vy\")[:n_bulge+n_disk],a.field(\"star_2_vy\")[:n_bulge+n_disk]),dtype = \"float64\")\n",
    "stars_vz = np.array(np.append(a.field(\"star_1_vz\")[:n_bulge+n_disk],a.field(\"star_2_vz\")[:n_bulge+n_disk]),dtype = \"float64\")\n",
    "\n",
    "star_x_wrt_mean_galaxies = stars_x - np.mean(galaxies_x)\n",
    "star_y_wrt_mean_galaxies = stars_y - np.mean(galaxies_y)\n",
    "star_z_wrt_mean_galaxies = stars_z - np.mean(galaxies_z)\n",
    "star_vx_wrt_mean_galaxies = stars_vx - np.mean(galaxies_vx)\n",
    "star_vy_wrt_mean_galaxies = stars_vy - np.mean(galaxies_vy)\n",
    "star_vz_wrt_mean_galaxies = stars_vz - np.mean(galaxies_vz)"
   ]
  },
  {
   "cell_type": "code",
   "execution_count": null,
   "metadata": {},
   "outputs": [],
   "source": [
    "stars_x/3.086e19"
   ]
  },
  {
   "cell_type": "code",
   "execution_count": null,
   "metadata": {},
   "outputs": [],
   "source": [
    "dist_stars = np.sqrt(star_x_wrt_mean_galaxies**2 + star_y_wrt_mean_galaxies**2 + star_z_wrt_mean_galaxies**2)\n",
    "vel_stars  = np.sqrt(star_vx_wrt_mean_galaxies**2 + star_vy_wrt_mean_galaxies**2 + star_vz_wrt_mean_galaxies**2)\n",
    "\n",
    "print(np.where(dist_stars > 300*3.086e19)[0])\n",
    "\n",
    "G = 6.67e-11\n",
    "total_mass_galaxies_in_kg = galaxy1.mass.sum().value_in(units.kg) + 0.5*galaxy2.mass.sum().value_in(units.kg)\n",
    "def v_escape(r,M):\n",
    "    return(np.sqrt(2*G*M/r))"
   ]
  },
  {
   "cell_type": "code",
   "execution_count": null,
   "metadata": {},
   "outputs": [],
   "source": [
    "np.array(np.append(a.field(\"star_1_x\")[:n_bulge+n_disk],a.field(\"star_2_x\")[:n_bulge+n_disk]),dtype=\"float64\")"
   ]
  },
  {
   "cell_type": "code",
   "execution_count": null,
   "metadata": {},
   "outputs": [],
   "source": [
    "v_esc_stars = v_escape(dist_stars,total_mass_galaxies_in_kg) /1000\n",
    "print(v_esc_stars[:50])\n",
    "print(vel_stars[:50])\n",
    "print()\n",
    "print(np.where(vel_stars > v_esc_stars)[0])"
   ]
  },
  {
   "cell_type": "code",
   "execution_count": null,
   "metadata": {},
   "outputs": [],
   "source": [
    "print(vel_stars[32374],v_esc_stars[32374])\n",
    "print(vel_stars[34234],v_esc_stars[34234])\n",
    "print(vel_stars[37014],v_esc_stars[37014])"
   ]
  },
  {
   "cell_type": "code",
   "execution_count": null,
   "metadata": {},
   "outputs": [],
   "source": [
    "print(dist_stars[32374]/3.086e19)\n",
    "print(dist_stars[34234]/3.086e19)\n",
    "print(dist_stars[37014]/3.086e19)"
   ]
  },
  {
   "cell_type": "code",
   "execution_count": null,
   "metadata": {},
   "outputs": [],
   "source": [
    "def v_crit(M1,M2,a):\n",
    "    G  = 4.3009125e-6 # in units kpc/Msun (Km/s)^2\n",
    "    v1 = M2 * np.sqrt(G/(a*(M1+M2)))\n",
    "    q  = M2/M1 \n",
    "    v2 = v1/q\n",
    "    v_crit = abs(v1-v2) # in km/s\n",
    "    return(v_crit)\n",
    "\n",
    "\n",
    "def v_and_r_rel_stars(v1,v2,r1,r2):\n",
    "    v_rel = np.sqrt((v1[0]-v2[0])**2+(v1[1]-v2[1])**2+(v1[2]-v2[2])**2)\n",
    "    r_rel = np.sqrt((r1[0]-r2[0])**2+(r1[1]-r2[1])**2+(r1[2]-r2[2])**2)\n",
    "    return(r_rel,v_rel)\n",
    "\n",
    "\n",
    "def binding_energy(M1,M2,v1,v2,r1,r2):\n",
    "    G   = 4.3009125e-6 # in units kpc/Msun (Km/s)^2\n",
    "    r = np.sqrt(((r1-r2)**2).sum())\n",
    "    v = np.sqrt(((v1-v2)**2).sum())\n",
    "    E_b = 0.5*v**2*(M1*M2/(M1+M2)) - (G*M1*M2/r)\n",
    "    return(E_b)\n",
    "\n",
    "star_1_pos = np.array([stars_x[34234],stars_y[34234],stars_z[34234]])/3.086e19\n",
    "star_2_pos = np.array([stars_x[37014],stars_y[37014],stars_z[37014]])/3.086e19\n",
    "star_3_pos = np.array([stars_x[32374],stars_y[32374],stars_z[32374]])/3.086e19\n",
    "\n",
    "star_1_vel = np.array([stars_vx[34234],stars_vy[34234],stars_vz[34234]])\n",
    "star_2_vel = np.array([stars_vx[37014],stars_vy[37014],stars_vz[37014]])\n",
    "star_3_vel = np.array([stars_vx[32374],stars_vy[32374],stars_vz[32374]])\n",
    "\n",
    "v_rel,r_rel = v_and_r_rel_stars(star_1_vel,star_2_vel,star_1_pos,star_2_pos)\n",
    "\n",
    "v_crit(10,20,1e-3)\n",
    "\n",
    "#v_crit(10,20,r_rel)\n"
   ]
  },
  {
   "cell_type": "code",
   "execution_count": null,
   "metadata": {},
   "outputs": [],
   "source": [
    "def binaries(m1,m2,v1,v2,r1,r2,hardness=10):\n",
    "    G  = 4.3009125e-6 # in units kpc/Msun (Km/s)^2\n",
    "    total_v1_squared = (v1**2).sum()\n",
    "    total_v2_squared = (v2**2).sum()\n",
    "    E_kin_total = 0.5*(m1*total_v1_squared + m2*total_v2_squared)\n",
    "    print(E_kin_total)\n",
    "    limit_energy = E_kin_total/(m1+m2) * hardness\n",
    "    \n",
    "    r = np.sqrt(((r1-r2)**2).sum())\n",
    "    v_squared = ((v1-v2)**2).sum()\n",
    "    E_b = ((G*(m1+m2))/r) - (0.5*v_squared)\n",
    "    #E_b = 0.5*v_squared*(m1*m2/(m1+m2)) - (G*m1*m2/r)\n",
    "    \n",
    "    #print(v_squared,m1+m2)\n",
    "    print(m1+m2,r,v_squared)\n",
    "    print(E_b,limit_energy)\n",
    "    if E_b > limit_energy:\n",
    "        return(True)\n",
    "    else:\n",
    "        return(False)\n",
    "\n"
   ]
  },
  {
   "cell_type": "code",
   "execution_count": null,
   "metadata": {},
   "outputs": [],
   "source": [
    "#checks whether 2 stars move in the same direction with roughly equal velocity\n",
    "def moving_same_direction(v1,v2,eps_v =0.7):\n",
    "    v_ratio = v1/v2\n",
    "    print(v_ratio)\n",
    "    factors_true = 0\n",
    "    if v_ratio[0] > eps_v and v_ratio[0] < 1/eps_v:\n",
    "        print(\"vx within ratio\")\n",
    "        factors_true += 1\n",
    "    if v_ratio[1] > eps_v and v_ratio[1] < 1/eps_v:\n",
    "        print(\"vy within ratio\")\n",
    "        factors_true += 1\n",
    "    if v_ratio[2] > eps_v and v_ratio[2] < 1/eps_v:\n",
    "        print(\"vz within ratio\")\n",
    "        factors_true += 1\n",
    "    if factors_true >1:\n",
    "        return(True)\n",
    "    else:\n",
    "        return(False)\n",
    "\n",
    "def getting_closer(v1,v2,r1,r2,time = np.linspace(0,10000,1000),eps_r = 1.1):\n",
    "    #convert v to kpc/Myr\n",
    "    v_1 = v1*3.154e13/3.086e16\n",
    "    v_2 = v2*3.154e13/3.086e16\n",
    "    v_rel = v2-v1\n",
    "    r_rel = r2-r1\n",
    "    \n",
    "    getting_closer = False\n",
    "    moves_away_slightly = False\n",
    "    for i in range(1,len(time)):\n",
    "        r_rel_new = r_rel + v_rel*(time[i]-time[i-1])\n",
    "        if (r_rel/eps_r).sum() < (v1 * (time[i]-time[i-1])).sum():\n",
    "            moves_away_slightly = True\n",
    "            #getting_closer = False\n",
    "        if np.sqrt((r_rel_new**2).sum()) < np.sqrt((r_rel**2).sum()):\n",
    "            getting_closer = True\n",
    "        r_rel = r_rel_new\n",
    "    return(getting_closer,moves_away_slightly)\n",
    "\n",
    "moving_same_direction(star_1_vel,star_2_vel)\n",
    "moving_same_direction(star_1_vel,star_3_vel)\n",
    "moving_same_direction(star_2_vel,star_3_vel)\n",
    "\n",
    "\n"
   ]
  },
  {
   "cell_type": "code",
   "execution_count": null,
   "metadata": {},
   "outputs": [],
   "source": [
    "print(getting_closer(star_1_vel,star_3_vel, star_1_pos,star_3_pos))\n",
    "print(getting_closer(star_1_vel,star_2_vel, star_1_pos,star_2_pos))\n",
    "print(getting_closer(star_2_vel,star_3_vel, star_2_pos,star_3_pos))"
   ]
  },
  {
   "cell_type": "code",
   "execution_count": null,
   "metadata": {},
   "outputs": [],
   "source": [
    "r1 = np.array([10,0,0])\n",
    "r2 = np.array([20,0,0])\n",
    "v1 = np.array([100.,0,0])\n",
    "v2 = np.array([50.,0,0])\n",
    "getting_closer(v1,v2,r1,r2)\n"
   ]
  },
  {
   "cell_type": "code",
   "execution_count": null,
   "metadata": {},
   "outputs": [],
   "source": [
    "plt.figure(figsize = (10,8))\n",
    "plt.scatter(galaxy1.x[:int(n_bulge+n_disk)].value_in(units.kpc), galaxy1.y[:int(n_bulge+n_disk)].value_in(units.kpc), s=0.3,label = 'Big galaxy')\n",
    "plt.scatter(galaxy2.x[:int(n_bulge+n_disk)].value_in(units.kpc), galaxy2.y[:int(n_bulge+n_disk)].value_in(units.kpc), s=0.3,label = 'Small galaxy')\n",
    "plt.title(\"Disk + Bulge \\n time = \" +str(times[time]) )\n",
    "plt.legend()\n",
    "plt.xlabel(\"x [kpc]\")\n",
    "plt.ylabel(\"y [kpc]\")\n",
    "plt.xlim(-500,500)\n",
    "#plt.axis(\"equal\")\n",
    "plt.ylim(-500,500)\n",
    "#plt.savefig('./merge_plots/snapshots_xy/snap%04d.png'%time)\n",
    "plt.show()\n",
    "#plt.close()\n",
    "\n",
    "plt.figure(figsize = (10,8))\n",
    "plt.scatter(galaxy1.x[:int(n_bulge+n_disk)].value_in(units.kpc), galaxy1.z[:int(n_bulge+n_disk)].value_in(units.kpc), s=0.3,label = 'Big galaxy')\n",
    "plt.scatter(galaxy2.x[:int(n_bulge+n_disk)].value_in(units.kpc), galaxy2.z[:int(n_bulge+n_disk)].value_in(units.kpc), s=0.3,label = 'Small galaxy')\n",
    "plt.title(\"Disk + Bulge \\n time = \" +str(times[time]) )\n",
    "plt.legend()\n",
    "plt.xlabel(\"x [kpc]\")\n",
    "plt.ylabel(\"y [kpc]\")\n",
    "plt.xlim(-500,500)\n",
    "#plt.axis(\"equal\")\n",
    "plt.ylim(-500,500)\n",
    "#plt.savefig('./merge_plots/snapshots_yz/snap%04d.png'%time)\n",
    "plt.show()\n",
    "#plt.close()"
   ]
  },
  {
   "cell_type": "code",
   "execution_count": null,
   "metadata": {},
   "outputs": [],
   "source": []
  }
 ],
 "metadata": {
  "kernelspec": {
   "display_name": "Python 3",
   "language": "python",
   "name": "python3"
  },
  "language_info": {
   "codemirror_mode": {
    "name": "ipython",
    "version": 3
   },
   "file_extension": ".py",
   "mimetype": "text/x-python",
   "name": "python",
   "nbconvert_exporter": "python",
   "pygments_lexer": "ipython3",
   "version": "3.8.5"
  }
 },
 "nbformat": 4,
 "nbformat_minor": 4
}
