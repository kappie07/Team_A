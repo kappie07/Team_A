{
 "cells": [
  {
   "cell_type": "code",
   "execution_count": 1,
   "metadata": {},
   "outputs": [],
   "source": [
    "from amuse.units import units\n",
    "from amuse.lab import Huayno, nbody_system, new_galactics_model\n",
    "from amuse.lab import Gadget2\n",
    "from amuse.community.ph4.interface import ph4\n",
    "import copy\n",
    "import numpy as np\n",
    "import matplotlib.pyplot as plt\n",
    "from tqdm import tqdm\n",
    "from amuse.couple import bridge\n",
    "from amuse.community.hermite.interface import Hermite\n",
    "from amuse.community.bhtree.interface import BHTree\n",
    "from astropy.io import fits"
   ]
  },
  {
   "cell_type": "code",
   "execution_count": 2,
   "metadata": {},
   "outputs": [
    {
     "name": "stdout",
     "output_type": "stream",
     "text": [
      "Warning: do_scale for a large galactics model may be very slow\n",
      "CPU times: user 13 s, sys: 2.14 s, total: 15.1 s\n",
      "Wall time: 17.3 s\n"
     ]
    }
   ],
   "source": [
    "%%time\n",
    "\n",
    "# Milky Way := Mdisk = 4.5 Mbulge | Mhalo = 100 Mbulge\n",
    "# Andromeda := Mdisk = 4-7 Mbulge | Mhalo = 87 Mbulge\n",
    "# Mdisk = 5 Mbulge, Mhalo = 95 Mbulge\n",
    "\n",
    "n_halo  = 20000\n",
    "n_bulge = 10000\n",
    "n_disk  = 10000\n",
    "M_galaxy = 1e12 | units.MSun\n",
    "R_galaxy = 80  | units.kpc\n",
    "converter = nbody_system.nbody_to_si(M_galaxy, R_galaxy)\n",
    "\n",
    "galaxy1 = new_galactics_model(n_halo,\n",
    "                                converter,\n",
    "                                do_scale=True,\n",
    "                                bulge_number_of_particles=n_bulge,\n",
    "                                disk_number_of_particles=n_disk)\n",
    "# Order of particles: Disk => Bulge => Halo"
   ]
  },
  {
   "cell_type": "code",
   "execution_count": 3,
   "metadata": {},
   "outputs": [
    {
     "name": "stdout",
     "output_type": "stream",
     "text": [
      "Warning: do_scale for a large galactics model may be very slow\n",
      "CPU times: user 13 s, sys: 2.23 s, total: 15.2 s\n",
      "Wall time: 15.2 s\n"
     ]
    }
   ],
   "source": [
    "%%time\n",
    "M_galaxy_2 = 5e11 | units.MSun\n",
    "R_galaxy_2 = 50  | units.kpc\n",
    "converter_2 = nbody_system.nbody_to_si(M_galaxy_2, R_galaxy_2)\n",
    "galaxy2 = new_galactics_model(n_halo,\n",
    "                                converter_2,\n",
    "                                do_scale=True,\n",
    "                                bulge_number_of_particles=n_bulge,\n",
    "                                disk_number_of_particles=n_disk)"
   ]
  },
  {
   "cell_type": "code",
   "execution_count": 4,
   "metadata": {},
   "outputs": [
    {
     "name": "stdout",
     "output_type": "stream",
     "text": [
      "CPU times: user 18.2 ms, sys: 6.01 ms, total: 24.2 ms\n",
      "Wall time: 11.8 ms\n"
     ]
    }
   ],
   "source": [
    "%%time\n",
    "galaxy1.rotate(0., np.pi/2, 0.)\n",
    "galaxy2.x  += 400 | units.kpc\n",
    "galaxy2.vx += -100 |units.kms\n",
    "galaxy2.vy += +10 |units.kms"
   ]
  },
  {
   "cell_type": "code",
   "execution_count": 5,
   "metadata": {},
   "outputs": [],
   "source": [
    "converter = nbody_system.nbody_to_si(1.e12|units.MSun, 100|units.kpc)\n",
    "dynamics = BHTree(converter) # ph4 Does the trick, but is kinda slow\n",
    "dynamics.parameters.epsilon_squared = (100|units.parsec)**2\n",
    "set1 = dynamics.particles.add_particles(galaxy1)\n",
    "set2 = dynamics.particles.add_particles(galaxy2)"
   ]
  },
  {
   "cell_type": "code",
   "execution_count": 6,
   "metadata": {},
   "outputs": [
    {
     "name": "stdout",
     "output_type": "stream",
     "text": [
      "Warning: do_scale for a large galactics model may be very slow\n",
      "Warning: do_scale for a large galactics model may be very slow\n",
      "CPU times: user 25.9 s, sys: 4.94 s, total: 30.8 s\n",
      "Wall time: 31.6 s\n"
     ]
    }
   ],
   "source": [
    "%%time\n",
    "n_halo_test  = 20000\n",
    "n_disk_test  = 10000\n",
    "n_bulge_test = 10000\n",
    "\n",
    "test_particles_1 = new_galactics_model(n_halo_test,\n",
    "                                converter,\n",
    "                                do_scale=True,\n",
    "                                bulge_number_of_particles=n_bulge_test,\n",
    "                                disk_number_of_particles=n_disk_test)\n",
    "\n",
    "test_particles_2 = new_galactics_model(n_halo_test,\n",
    "                                converter_2,\n",
    "                                do_scale=True,\n",
    "                                bulge_number_of_particles=n_bulge_test,\n",
    "                                disk_number_of_particles=n_disk_test)"
   ]
  },
  {
   "cell_type": "code",
   "execution_count": 7,
   "metadata": {},
   "outputs": [],
   "source": [
    "#set the mass of the test particles to 0\n",
    "test_particles_1.mass = 0 |units.kg\n",
    "test_particles_2.mass = 0 |units.kg\n",
    "\n",
    "#we're only interested in the particles from the stars, and not the halo.\n",
    "test_particles_1_stars = test_particles_1[:int(n_bulge_test+n_disk_test)]\n",
    "test_particles_2_stars = test_particles_2[:int(n_bulge_test+n_disk_test)]\n",
    "\n",
    "#rotate and translate in the same way as the galaxies\n",
    "test_particles_1_stars.rotate(0., np.pi/2, 0.)\n",
    "test_particles_2_stars.x  += 400 | units.kpc\n",
    "test_particles_2_stars.vx += -100 |units.kms\n",
    "test_particles_2_stars.vy += +10 |units.kms\n",
    "\n",
    "star_dynamics = BHTree(converter)\n",
    "star_set_1 = star_dynamics.particles.add_particles(test_particles_1_stars)\n",
    "star_set_2 = star_dynamics.particles.add_particles(test_particles_2_stars)"
   ]
  },
  {
   "cell_type": "code",
   "execution_count": 8,
   "metadata": {},
   "outputs": [],
   "source": [
    "gravity = bridge.Bridge(use_threading=False)\n",
    "gravity.add_system(star_dynamics, (dynamics,) )\n",
    "gravity.add_system(dynamics)\n",
    "#gravity.add_system(star_dynamics, (galaxy2,) )\n",
    "#gravity.add_system(galaxy2, (galaxy1,) )\n",
    "#gravity.add_system(galaxy1, (galaxy2,) )\n",
    "channel = star_dynamics.particles.new_channel_to(star_dynamics.particles)"
   ]
  },
  {
   "cell_type": "code",
   "execution_count": null,
   "metadata": {},
   "outputs": [
    {
     "name": "stderr",
     "output_type": "stream",
     "text": [
      "  9%|▉         | 44/500 [2:38:45<27:29:43, 217.07s/it]"
     ]
    }
   ],
   "source": [
    "gravity.timestep = 10|units.Myr\n",
    "threshold = 20. |units.Myr \n",
    "\n",
    "times = np.arange(0., 5000, 10) | units.Myr\n",
    "for time in tqdm(range(len(times))):\n",
    "    gravity.evolve_model(times[time])\n",
    "    if times[time] %threshold == 0|units.Myr:\n",
    "        channel.copy()\n",
    "        '''\n",
    "        #saving the orbit of the stars with mass\n",
    "        plt.figure(figsize = (10,8))\n",
    "        plt.scatter(set1.x[:int(n_bulge+n_disk)].value_in(units.kpc), set1.y[:int(n_bulge+n_disk)].value_in(units.kpc), s=0.3,label = 'Big galaxy')\n",
    "        plt.scatter(set2.x[:int(n_bulge+n_disk)].value_in(units.kpc), set2.y[:int(n_bulge+n_disk)].value_in(units.kpc), s=0.3,label = 'Small galaxy')\n",
    "        plt.title(\"Disk + Bulge \\n time = \" +str(times[time]) )\n",
    "        plt.legend()\n",
    "        plt.xlabel(\"x [kpc]\")\n",
    "        plt.ylabel(\"y [kpc]\")\n",
    "        plt.xlim(-200,500)\n",
    "        plt.axis(\"equal\")\n",
    "        #plt.ylim(-100,100)\n",
    "        plt.savefig('./merge_plots/snap%04d.png'%time)\n",
    "        #plt.show()\n",
    "        plt.close()\n",
    "        '''\n",
    "        #saving the orbit of the massless tracers\n",
    "        plt.figure(figsize = (10,8))\n",
    "        plt.scatter(star_set_1.x[:int(n_disk_test)].value_in(units.kpc), star_set_1.y[:int(n_disk_test)].value_in(units.kpc), s=1,label = 'Big galaxy (disk)',color = 'b')\n",
    "        plt.scatter(star_set_2.x[:int(n_disk_test)].value_in(units.kpc), star_set_2.y[:int(n_disk_test)].value_in(units.kpc), s=1,label = 'Small galaxy (disk)', color ='k')\n",
    "        plt.scatter(star_set_1.x[int(n_disk_test):int(n_bulge_test+n_disk_test)].value_in(units.kpc), star_set_1.y[int(n_disk_test):int(n_bulge_test+n_disk_test)].value_in(units.kpc), s=1,label = 'Big galaxy (bulge)',color = 'r')\n",
    "        plt.scatter(star_set_2.x[int(n_disk_test):int(n_bulge_test+n_disk_test)].value_in(units.kpc), star_set_2.y[int(n_disk_test):int(n_bulge_test+n_disk_test)].value_in(units.kpc), s=1,label = 'Small galaxy bulge',color = 'magenta')\n",
    "        plt.title(\"Disk + Bulge for test particles \\n time = \" +str(times[time]) )\n",
    "        plt.legend()\n",
    "        plt.xlabel(\"x [kpc]\")\n",
    "        plt.ylabel(\"y [kpc]\")\n",
    "        plt.xlim(-500,500)\n",
    "        #plt.axis(\"equal\")\n",
    "        plt.ylim(-500,500)\n",
    "        plt.savefig('./star_plots/snapshots/snap%04d.png'%time)\n",
    "        plt.close()\n",
    "        \n",
    "        file = open(\"time.txt\",\"w\")\n",
    "        file.write(str(times[time]))\n",
    "        file.write(\"\\n\")\n",
    "        #put the last data in fits files\n",
    "        col1 = fits.Column(name='star_1_x', format='E', array=np.array(star_set_1.x.value_in(units.m)))\n",
    "        col2 = fits.Column(name='star_1_y', format='E', array=np.array(star_set_1.y.value_in(units.m)))\n",
    "        col3 = fits.Column(name='star_1_z', format='E', array=np.array(star_set_1.z.value_in(units.m)))\n",
    "        col4 = fits.Column(name='star_1_vx', format='E', array=np.array(star_set_1.vx.value_in(units.kms)))\n",
    "        col5 = fits.Column(name='star_1_vy', format='E', array=np.array(star_set_1.vy.value_in(units.kms)))\n",
    "        col6 = fits.Column(name='star_1_vz', format='E', array=np.array(star_set_1.vz.value_in(units.kms)))\n",
    "\n",
    "        col11 = fits.Column(name='star_2_x', format='E', array=np.array(star_set_2.x.value_in(units.m)))\n",
    "        col12 = fits.Column(name='star_2_y', format='E', array=np.array(star_set_2.y.value_in(units.m)))\n",
    "        col13 = fits.Column(name='star_2_z', format='E', array=np.array(star_set_2.z.value_in(units.m)))\n",
    "        col14 = fits.Column(name='star_2_vx', format='E', array=np.array(star_set_2.vx.value_in(units.kms)))\n",
    "        col15 = fits.Column(name='star_2_vy', format='E', array=np.array(star_set_2.vy.value_in(units.kms)))\n",
    "        col16 = fits.Column(name='star_2_vz', format='E', array=np.array(star_set_2.vz.value_in(units.kms)))\n",
    "        \n",
    "        col21 = fits.Column(name='set_1_x', format='E', array=np.array(set1.x.value_in(units.m)))\n",
    "        col22 = fits.Column(name='set_1_y', format='E', array=np.array(set1.y.value_in(units.m)))\n",
    "        col23 = fits.Column(name='set_1_z', format='E', array=np.array(set1.z.value_in(units.m)))\n",
    "        col24 = fits.Column(name='set_1_vx', format='E', array=np.array(set1.vx.value_in(units.kms)))\n",
    "        col25 = fits.Column(name='set_1_vy', format='E', array=np.array(set1.vy.value_in(units.kms)))\n",
    "        col26 = fits.Column(name='set_1_vz', format='E', array=np.array(set1.vz.value_in(units.kms)))\n",
    "\n",
    "        \n",
    "        col31 = fits.Column(name='set_2_x', format='E', array=np.array(set2.x.value_in(units.m)))\n",
    "        col32 = fits.Column(name='set_2_y', format='E', array=np.array(set2.y.value_in(units.m)))\n",
    "        col33 = fits.Column(name='set_2_z', format='E', array=np.array(set2.z.value_in(units.m)))\n",
    "        col34 = fits.Column(name='set_2_vx', format='E', array=np.array(set2.vx.value_in(units.kms)))\n",
    "        col35 = fits.Column(name='set_2_vy', format='E', array=np.array(set2.vy.value_in(units.kms)))\n",
    "        col36 = fits.Column(name='set_2_vz', format='E', array=np.array(set2.vz.value_in(units.kms)))\n",
    "\n",
    "        cols = fits.ColDefs([col1,col2,col3,col4,col5,col6,col11,col12,col13,col14,col15,col16,col21,col22,col23,col24,col25,col26,col31,col32,col33,col34,col35,col36])\n",
    "        hdu = fits.BinTableHDU.from_columns(cols)\n",
    "        hdu.writeto('data.fits',overwrite =True)\n",
    "        file.write(str(times[time]))\n",
    "        file.close()\n",
    "        \n",
    "        \n",
    "gravity.stop()"
   ]
  },
  {
   "cell_type": "code",
   "execution_count": null,
   "metadata": {},
   "outputs": [],
   "source": [
    "file = fits.open(\"data.fits\")\n",
    "a = file[1].data"
   ]
  },
  {
   "cell_type": "code",
   "execution_count": null,
   "metadata": {},
   "outputs": [],
   "source": [
    "x = a.field(\"star_1_x\")\n",
    "print(x[:n_disk_test+n_bulge_test])\n",
    "#test_particles_1.x = x|units.m"
   ]
  },
  {
   "cell_type": "code",
   "execution_count": null,
   "metadata": {},
   "outputs": [],
   "source": [
    "b = open(\"time.txt\")\n",
    "c = b.read()\n",
    "print(c)"
   ]
  },
  {
   "cell_type": "code",
   "execution_count": null,
   "metadata": {},
   "outputs": [],
   "source": [
    "galaxies_x = np.array([a.field(\"set_1_x\"),a.field(\"set_2_x\")],dtype = \"float64\")#/3.086e19\n",
    "galaxies_y = np.array([a.field(\"set_1_y\"),a.field(\"set_2_y\")],dtype = \"float64\")#/3.086e19\n",
    "galaxies_z = np.array([a.field(\"set_1_z\"),a.field(\"set_2_z\")],dtype = \"float64\")#/3.086e19\n",
    "print(np.mean(galaxies_x))\n",
    "print(np.mean(galaxies_y))\n",
    "print(np.mean(galaxies_z))"
   ]
  },
  {
   "cell_type": "code",
   "execution_count": null,
   "metadata": {},
   "outputs": [],
   "source": [
    "galaxies_vx = np.array([a.field(\"set_1_vx\"),a.field(\"set_2_vx\")],dtype = 'float64')\n",
    "galaxies_vy = np.array([a.field(\"set_1_vy\"),a.field(\"set_2_vy\")],dtype = 'float64')\n",
    "galaxies_vz = np.array([a.field(\"set_1_vz\"),a.field(\"set_2_vz\")],dtype = 'float64')\n",
    "print(np.mean(galaxies_vx))\n",
    "print(np.mean(galaxies_vy))\n",
    "print(np.mean(galaxies_vz))"
   ]
  },
  {
   "cell_type": "code",
   "execution_count": null,
   "metadata": {},
   "outputs": [],
   "source": [
    "stars_x = np.array([a.field(\"star_1_x\"),a.field(\"star_2_x\")],dtype = \"float64\")#/3.086e19\n",
    "stars_y = np.array([a.field(\"star_1_y\"),a.field(\"star_2_y\")],dtype = \"float64\")#/3.086e19\n",
    "stars_z = np.array([a.field(\"star_1_z\"),a.field(\"star_2_z\")],dtype = \"float64\")#/3.086e19\n",
    "stars_vx = np.array([a.field(\"star_1_vx\"),a.field(\"star_2_vx\")],dtype = \"float64\")\n",
    "stars_vy = np.array([a.field(\"star_1_vy\"),a.field(\"star_2_vy\")],dtype = \"float64\")\n",
    "stars_vz = np.array([a.field(\"star_1_vz\"),a.field(\"star_2_vz\")],dtype = \"float64\")\n",
    "\n",
    "star_x_wrt_mean_galaxies = stars_x - np.mean(galaxies_x)\n",
    "star_y_wrt_mean_galaxies = stars_y - np.mean(galaxies_y)\n",
    "star_z_wrt_mean_galaxies = stars_z - np.mean(galaxies_z)\n",
    "star_vx_wrt_mean_galaxies = stars_vx - np.mean(galaxies_vx)\n",
    "star_vy_wrt_mean_galaxies = stars_vy - np.mean(galaxies_vy)\n",
    "star_vz_wrt_mean_galaxies = stars_vz - np.mean(galaxies_vz)"
   ]
  },
  {
   "cell_type": "code",
   "execution_count": null,
   "metadata": {},
   "outputs": [],
   "source": [
    "print(star_x_wrt_mean_galaxies[0]**2)\n"
   ]
  },
  {
   "cell_type": "code",
   "execution_count": null,
   "metadata": {},
   "outputs": [],
   "source": [
    "dist_stars = np.sqrt(star_x_wrt_mean_galaxies[0]**2 + star_y_wrt_mean_galaxies[0]**2 + star_z_wrt_mean_galaxies[0]**2)\n",
    "vel_stars  = np.sqrt(star_vx_wrt_mean_galaxies[0]**2 + star_vy_wrt_mean_galaxies[0]**2 + star_vz_wrt_mean_galaxies[0]**2)\n",
    "\n",
    "print(len(np.where(dist_stars > 100*3.086e19)[0]))\n",
    "\n",
    "G = 6.67e-11\n",
    "total_mass_galaxies_in_kg = galaxy1.mass.sum().value_in(units.kg) + galaxy2.mass.sum().value_in(units.kg)\n",
    "def v_escape(r,M):\n",
    "    print(r)\n",
    "    return(np.sqrt(2*G*M/r))"
   ]
  },
  {
   "cell_type": "code",
   "execution_count": null,
   "metadata": {},
   "outputs": [],
   "source": [
    "v_esc_stars = v_escape(dist_stars,total_mass_galaxies_in_kg) /1000\n",
    "print(v_esc_stars[:50])\n",
    "print(vel_stars[:50])\n"
   ]
  },
  {
   "cell_type": "code",
   "execution_count": null,
   "metadata": {},
   "outputs": [],
   "source": [
    "np.max(star_x_wrt_mean_galaxies)"
   ]
  },
  {
   "cell_type": "code",
   "execution_count": null,
   "metadata": {},
   "outputs": [],
   "source": [
    "plt.scatter(np.array(galaxies_x)/(3.086e19),np.array(galaxies_y)/(3.086e19))\n",
    "plt.axis(\"equal\")\n",
    "plt.show()\n"
   ]
  },
  {
   "cell_type": "code",
   "execution_count": null,
   "metadata": {},
   "outputs": [],
   "source": [
    "plt.scatter(np.array(stars_x)/(3.086e19),np.array(stars_y)/(3.086e19))\n",
    "plt.axis(\"equal\")\n",
    "plt.show()"
   ]
  },
  {
   "cell_type": "code",
   "execution_count": null,
   "metadata": {},
   "outputs": [],
   "source": [
    "galaxy1.mass.sum().value_in(units.kg)"
   ]
  },
  {
   "cell_type": "code",
   "execution_count": null,
   "metadata": {},
   "outputs": [],
   "source": []
  }
 ],
 "metadata": {
  "kernelspec": {
   "display_name": "Python 3",
   "language": "python",
   "name": "python3"
  },
  "language_info": {
   "codemirror_mode": {
    "name": "ipython",
    "version": 3
   },
   "file_extension": ".py",
   "mimetype": "text/x-python",
   "name": "python",
   "nbconvert_exporter": "python",
   "pygments_lexer": "ipython3",
   "version": "3.8.5"
  }
 },
 "nbformat": 4,
 "nbformat_minor": 4
}
